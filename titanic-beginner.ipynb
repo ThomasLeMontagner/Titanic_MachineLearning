{
 "cells": [
  {
   "cell_type": "code",
   "execution_count": 1,
   "id": "52f137b5",
   "metadata": {
    "_cell_guid": "b1076dfc-b9ad-4769-8c92-a6c4dae69d19",
    "_uuid": "8f2839f25d086af736a60e9eeb907d3b93b6e0e5",
    "execution": {
     "iopub.execute_input": "2022-02-24T21:23:03.758604Z",
     "iopub.status.busy": "2022-02-24T21:23:03.757340Z",
     "iopub.status.idle": "2022-02-24T21:23:03.771831Z",
     "shell.execute_reply": "2022-02-24T21:23:03.772892Z",
     "shell.execute_reply.started": "2022-02-24T21:15:27.209665Z"
    },
    "papermill": {
     "duration": 0.094084,
     "end_time": "2022-02-24T21:23:03.773355",
     "exception": false,
     "start_time": "2022-02-24T21:23:03.679271",
     "status": "completed"
    },
    "tags": []
   },
   "outputs": [
    {
     "name": "stdout",
     "output_type": "stream",
     "text": [
      "/kaggle/input/titanic/train.csv\n",
      "/kaggle/input/titanic/test.csv\n",
      "/kaggle/input/titanic/gender_submission.csv\n"
     ]
    }
   ],
   "source": [
    "# This Python 3 environment comes with many helpful analytics libraries installed\n",
    "# It is defined by the kaggle/python Docker image: https://github.com/kaggle/docker-python\n",
    "# For example, here's several helpful packages to load\n",
    "\n",
    "import numpy as np # linear algebra\n",
    "import pandas as pd # data processing, CSV file I/O (e.g. pd.read_csv)\n",
    "\n",
    "# Input data files are available in the read-only \"../input/\" directory\n",
    "# For example, running this (by clicking run or pressing Shift+Enter) will list all files under the input directory\n",
    "\n",
    "import os\n",
    "for dirname, _, filenames in os.walk('/kaggle/input'):\n",
    "    for filename in filenames:\n",
    "        print(os.path.join(dirname, filename))\n",
    "\n",
    "# You can write up to 20GB to the current directory (/kaggle/working/) that gets preserved as output when you create a version using \"Save & Run All\" \n",
    "# You can also write temporary files to /kaggle/temp/, but they won't be saved outside of the current session"
   ]
  },
  {
   "cell_type": "code",
   "execution_count": 2,
   "id": "1bbd1c2b",
   "metadata": {
    "execution": {
     "iopub.execute_input": "2022-02-24T21:23:03.923379Z",
     "iopub.status.busy": "2022-02-24T21:23:03.922707Z",
     "iopub.status.idle": "2022-02-24T21:23:11.895630Z",
     "shell.execute_reply": "2022-02-24T21:23:11.896148Z",
     "shell.execute_reply.started": "2022-02-24T21:15:27.227722Z"
    },
    "papermill": {
     "duration": 8.04932,
     "end_time": "2022-02-24T21:23:11.896343",
     "exception": false,
     "start_time": "2022-02-24T21:23:03.847023",
     "status": "completed"
    },
    "tags": []
   },
   "outputs": [],
   "source": [
    "## Imports...\n",
    "# Math\n",
    "from random import randint\n",
    "\n",
    "# For deep learning algo\n",
    "from keras import layers\n",
    "from keras import models\n",
    "from tensorflow.keras.utils import to_categorical\n",
    "\n",
    "# For machine learning algo\n",
    "import sklearn\n",
    "from sklearn.model_selection import train_test_split\n",
    "from sklearn.svm import LinearSVC\n",
    "from sklearn.svm import SVC\n",
    "from sklearn.neighbors import KNeighborsClassifier\n",
    "from sklearn.preprocessing import StandardScaler\n",
    "from sklearn.metrics import confusion_matrix, accuracy_score\n",
    "from sklearn.linear_model import SGDClassifier, LogisticRegression\n",
    "from sklearn.model_selection import cross_val_score, GridSearchCV\n",
    "from sklearn.tree import DecisionTreeClassifier\n",
    "from sklearn.ensemble import BaggingClassifier, VotingClassifier, RandomForestClassifier, AdaBoostClassifier, GradientBoostingClassifier  \n",
    "\n",
    "\n",
    "# For visualization\n",
    "import matplotlib.pyplot as plt\n",
    "import seaborn as sns"
   ]
  },
  {
   "cell_type": "markdown",
   "id": "83e9c2b5",
   "metadata": {
    "papermill": {
     "duration": 0.086923,
     "end_time": "2022-02-24T21:23:12.054556",
     "exception": false,
     "start_time": "2022-02-24T21:23:11.967633",
     "status": "completed"
    },
    "tags": []
   },
   "source": [
    "# **Import Data**\n",
    "Let's import the data first and look at them."
   ]
  },
  {
   "cell_type": "code",
   "execution_count": 3,
   "id": "9e165761",
   "metadata": {
    "execution": {
     "iopub.execute_input": "2022-02-24T21:23:12.213455Z",
     "iopub.status.busy": "2022-02-24T21:23:12.212791Z",
     "iopub.status.idle": "2022-02-24T21:23:12.256827Z",
     "shell.execute_reply": "2022-02-24T21:23:12.257360Z",
     "shell.execute_reply.started": "2022-02-24T21:15:27.242065Z"
    },
    "papermill": {
     "duration": 0.120647,
     "end_time": "2022-02-24T21:23:12.257546",
     "exception": false,
     "start_time": "2022-02-24T21:23:12.136899",
     "status": "completed"
    },
    "tags": []
   },
   "outputs": [
    {
     "name": "stdout",
     "output_type": "stream",
     "text": [
      "Train_data shape:  (891, 12) \n",
      "\n",
      "Train data:\n"
     ]
    },
    {
     "data": {
      "text/html": [
       "<div>\n",
       "<style scoped>\n",
       "    .dataframe tbody tr th:only-of-type {\n",
       "        vertical-align: middle;\n",
       "    }\n",
       "\n",
       "    .dataframe tbody tr th {\n",
       "        vertical-align: top;\n",
       "    }\n",
       "\n",
       "    .dataframe thead th {\n",
       "        text-align: right;\n",
       "    }\n",
       "</style>\n",
       "<table border=\"1\" class=\"dataframe\">\n",
       "  <thead>\n",
       "    <tr style=\"text-align: right;\">\n",
       "      <th></th>\n",
       "      <th>PassengerId</th>\n",
       "      <th>Survived</th>\n",
       "      <th>Pclass</th>\n",
       "      <th>Name</th>\n",
       "      <th>Sex</th>\n",
       "      <th>Age</th>\n",
       "      <th>SibSp</th>\n",
       "      <th>Parch</th>\n",
       "      <th>Ticket</th>\n",
       "      <th>Fare</th>\n",
       "      <th>Cabin</th>\n",
       "      <th>Embarked</th>\n",
       "    </tr>\n",
       "  </thead>\n",
       "  <tbody>\n",
       "    <tr>\n",
       "      <th>0</th>\n",
       "      <td>1</td>\n",
       "      <td>0</td>\n",
       "      <td>3</td>\n",
       "      <td>Braund, Mr. Owen Harris</td>\n",
       "      <td>male</td>\n",
       "      <td>22.0</td>\n",
       "      <td>1</td>\n",
       "      <td>0</td>\n",
       "      <td>A/5 21171</td>\n",
       "      <td>7.2500</td>\n",
       "      <td>NaN</td>\n",
       "      <td>S</td>\n",
       "    </tr>\n",
       "    <tr>\n",
       "      <th>1</th>\n",
       "      <td>2</td>\n",
       "      <td>1</td>\n",
       "      <td>1</td>\n",
       "      <td>Cumings, Mrs. John Bradley (Florence Briggs Th...</td>\n",
       "      <td>female</td>\n",
       "      <td>38.0</td>\n",
       "      <td>1</td>\n",
       "      <td>0</td>\n",
       "      <td>PC 17599</td>\n",
       "      <td>71.2833</td>\n",
       "      <td>C85</td>\n",
       "      <td>C</td>\n",
       "    </tr>\n",
       "    <tr>\n",
       "      <th>2</th>\n",
       "      <td>3</td>\n",
       "      <td>1</td>\n",
       "      <td>3</td>\n",
       "      <td>Heikkinen, Miss. Laina</td>\n",
       "      <td>female</td>\n",
       "      <td>26.0</td>\n",
       "      <td>0</td>\n",
       "      <td>0</td>\n",
       "      <td>STON/O2. 3101282</td>\n",
       "      <td>7.9250</td>\n",
       "      <td>NaN</td>\n",
       "      <td>S</td>\n",
       "    </tr>\n",
       "    <tr>\n",
       "      <th>3</th>\n",
       "      <td>4</td>\n",
       "      <td>1</td>\n",
       "      <td>1</td>\n",
       "      <td>Futrelle, Mrs. Jacques Heath (Lily May Peel)</td>\n",
       "      <td>female</td>\n",
       "      <td>35.0</td>\n",
       "      <td>1</td>\n",
       "      <td>0</td>\n",
       "      <td>113803</td>\n",
       "      <td>53.1000</td>\n",
       "      <td>C123</td>\n",
       "      <td>S</td>\n",
       "    </tr>\n",
       "    <tr>\n",
       "      <th>4</th>\n",
       "      <td>5</td>\n",
       "      <td>0</td>\n",
       "      <td>3</td>\n",
       "      <td>Allen, Mr. William Henry</td>\n",
       "      <td>male</td>\n",
       "      <td>35.0</td>\n",
       "      <td>0</td>\n",
       "      <td>0</td>\n",
       "      <td>373450</td>\n",
       "      <td>8.0500</td>\n",
       "      <td>NaN</td>\n",
       "      <td>S</td>\n",
       "    </tr>\n",
       "  </tbody>\n",
       "</table>\n",
       "</div>"
      ],
      "text/plain": [
       "   PassengerId  Survived  Pclass  \\\n",
       "0            1         0       3   \n",
       "1            2         1       1   \n",
       "2            3         1       3   \n",
       "3            4         1       1   \n",
       "4            5         0       3   \n",
       "\n",
       "                                                Name     Sex   Age  SibSp  \\\n",
       "0                            Braund, Mr. Owen Harris    male  22.0      1   \n",
       "1  Cumings, Mrs. John Bradley (Florence Briggs Th...  female  38.0      1   \n",
       "2                             Heikkinen, Miss. Laina  female  26.0      0   \n",
       "3       Futrelle, Mrs. Jacques Heath (Lily May Peel)  female  35.0      1   \n",
       "4                           Allen, Mr. William Henry    male  35.0      0   \n",
       "\n",
       "   Parch            Ticket     Fare Cabin Embarked  \n",
       "0      0         A/5 21171   7.2500   NaN        S  \n",
       "1      0          PC 17599  71.2833   C85        C  \n",
       "2      0  STON/O2. 3101282   7.9250   NaN        S  \n",
       "3      0            113803  53.1000  C123        S  \n",
       "4      0            373450   8.0500   NaN        S  "
      ]
     },
     "execution_count": 3,
     "metadata": {},
     "output_type": "execute_result"
    }
   ],
   "source": [
    "train_data = pd.read_csv(\"../input/titanic/train.csv\")\n",
    "\n",
    "print(\"Train_data shape: \", train_data.shape, \"\\n\")\n",
    "print(\"Train data:\")\n",
    "train_data.head()"
   ]
  },
  {
   "cell_type": "code",
   "execution_count": 4,
   "id": "32aa82a9",
   "metadata": {
    "execution": {
     "iopub.execute_input": "2022-02-24T21:23:12.409978Z",
     "iopub.status.busy": "2022-02-24T21:23:12.409219Z",
     "iopub.status.idle": "2022-02-24T21:23:12.433739Z",
     "shell.execute_reply": "2022-02-24T21:23:12.433198Z",
     "shell.execute_reply.started": "2022-02-24T21:15:27.277264Z"
    },
    "papermill": {
     "duration": 0.103757,
     "end_time": "2022-02-24T21:23:12.433913",
     "exception": false,
     "start_time": "2022-02-24T21:23:12.330156",
     "status": "completed"
    },
    "tags": []
   },
   "outputs": [
    {
     "name": "stdout",
     "output_type": "stream",
     "text": [
      "Test_data shape: (418, 11) \n",
      "\n",
      "Test data:\n"
     ]
    },
    {
     "data": {
      "text/html": [
       "<div>\n",
       "<style scoped>\n",
       "    .dataframe tbody tr th:only-of-type {\n",
       "        vertical-align: middle;\n",
       "    }\n",
       "\n",
       "    .dataframe tbody tr th {\n",
       "        vertical-align: top;\n",
       "    }\n",
       "\n",
       "    .dataframe thead th {\n",
       "        text-align: right;\n",
       "    }\n",
       "</style>\n",
       "<table border=\"1\" class=\"dataframe\">\n",
       "  <thead>\n",
       "    <tr style=\"text-align: right;\">\n",
       "      <th></th>\n",
       "      <th>PassengerId</th>\n",
       "      <th>Pclass</th>\n",
       "      <th>Name</th>\n",
       "      <th>Sex</th>\n",
       "      <th>Age</th>\n",
       "      <th>SibSp</th>\n",
       "      <th>Parch</th>\n",
       "      <th>Ticket</th>\n",
       "      <th>Fare</th>\n",
       "      <th>Cabin</th>\n",
       "      <th>Embarked</th>\n",
       "    </tr>\n",
       "  </thead>\n",
       "  <tbody>\n",
       "    <tr>\n",
       "      <th>0</th>\n",
       "      <td>892</td>\n",
       "      <td>3</td>\n",
       "      <td>Kelly, Mr. James</td>\n",
       "      <td>male</td>\n",
       "      <td>34.5</td>\n",
       "      <td>0</td>\n",
       "      <td>0</td>\n",
       "      <td>330911</td>\n",
       "      <td>7.8292</td>\n",
       "      <td>NaN</td>\n",
       "      <td>Q</td>\n",
       "    </tr>\n",
       "    <tr>\n",
       "      <th>1</th>\n",
       "      <td>893</td>\n",
       "      <td>3</td>\n",
       "      <td>Wilkes, Mrs. James (Ellen Needs)</td>\n",
       "      <td>female</td>\n",
       "      <td>47.0</td>\n",
       "      <td>1</td>\n",
       "      <td>0</td>\n",
       "      <td>363272</td>\n",
       "      <td>7.0000</td>\n",
       "      <td>NaN</td>\n",
       "      <td>S</td>\n",
       "    </tr>\n",
       "    <tr>\n",
       "      <th>2</th>\n",
       "      <td>894</td>\n",
       "      <td>2</td>\n",
       "      <td>Myles, Mr. Thomas Francis</td>\n",
       "      <td>male</td>\n",
       "      <td>62.0</td>\n",
       "      <td>0</td>\n",
       "      <td>0</td>\n",
       "      <td>240276</td>\n",
       "      <td>9.6875</td>\n",
       "      <td>NaN</td>\n",
       "      <td>Q</td>\n",
       "    </tr>\n",
       "    <tr>\n",
       "      <th>3</th>\n",
       "      <td>895</td>\n",
       "      <td>3</td>\n",
       "      <td>Wirz, Mr. Albert</td>\n",
       "      <td>male</td>\n",
       "      <td>27.0</td>\n",
       "      <td>0</td>\n",
       "      <td>0</td>\n",
       "      <td>315154</td>\n",
       "      <td>8.6625</td>\n",
       "      <td>NaN</td>\n",
       "      <td>S</td>\n",
       "    </tr>\n",
       "    <tr>\n",
       "      <th>4</th>\n",
       "      <td>896</td>\n",
       "      <td>3</td>\n",
       "      <td>Hirvonen, Mrs. Alexander (Helga E Lindqvist)</td>\n",
       "      <td>female</td>\n",
       "      <td>22.0</td>\n",
       "      <td>1</td>\n",
       "      <td>1</td>\n",
       "      <td>3101298</td>\n",
       "      <td>12.2875</td>\n",
       "      <td>NaN</td>\n",
       "      <td>S</td>\n",
       "    </tr>\n",
       "  </tbody>\n",
       "</table>\n",
       "</div>"
      ],
      "text/plain": [
       "   PassengerId  Pclass                                          Name     Sex  \\\n",
       "0          892       3                              Kelly, Mr. James    male   \n",
       "1          893       3              Wilkes, Mrs. James (Ellen Needs)  female   \n",
       "2          894       2                     Myles, Mr. Thomas Francis    male   \n",
       "3          895       3                              Wirz, Mr. Albert    male   \n",
       "4          896       3  Hirvonen, Mrs. Alexander (Helga E Lindqvist)  female   \n",
       "\n",
       "    Age  SibSp  Parch   Ticket     Fare Cabin Embarked  \n",
       "0  34.5      0      0   330911   7.8292   NaN        Q  \n",
       "1  47.0      1      0   363272   7.0000   NaN        S  \n",
       "2  62.0      0      0   240276   9.6875   NaN        Q  \n",
       "3  27.0      0      0   315154   8.6625   NaN        S  \n",
       "4  22.0      1      1  3101298  12.2875   NaN        S  "
      ]
     },
     "execution_count": 4,
     "metadata": {},
     "output_type": "execute_result"
    }
   ],
   "source": [
    "test_data = pd.read_csv(\"../input/titanic/test.csv\")\n",
    "\n",
    "print(\"Test_data shape:\", test_data.shape, \"\\n\")\n",
    "print(\"Test data:\")\n",
    "test_data.head()"
   ]
  },
  {
   "cell_type": "markdown",
   "id": "3c88b58e",
   "metadata": {
    "papermill": {
     "duration": 0.074792,
     "end_time": "2022-02-24T21:23:12.585752",
     "exception": false,
     "start_time": "2022-02-24T21:23:12.510960",
     "status": "completed"
    },
    "tags": []
   },
   "source": [
    "Let's join the train and test datasets so we can reduce the nulber of operations."
   ]
  },
  {
   "cell_type": "code",
   "execution_count": 5,
   "id": "37996251",
   "metadata": {
    "execution": {
     "iopub.execute_input": "2022-02-24T21:23:12.739940Z",
     "iopub.status.busy": "2022-02-24T21:23:12.739246Z",
     "iopub.status.idle": "2022-02-24T21:23:12.742825Z",
     "shell.execute_reply": "2022-02-24T21:23:12.743359Z",
     "shell.execute_reply.started": "2022-02-24T21:15:27.304173Z"
    },
    "papermill": {
     "duration": 0.083146,
     "end_time": "2022-02-24T21:23:12.743561",
     "exception": false,
     "start_time": "2022-02-24T21:23:12.660415",
     "status": "completed"
    },
    "tags": []
   },
   "outputs": [],
   "source": [
    "joined_data = [train_data, test_data]"
   ]
  },
  {
   "cell_type": "markdown",
   "id": "0cdd198e",
   "metadata": {
    "papermill": {
     "duration": 0.073715,
     "end_time": "2022-02-24T21:23:12.892299",
     "exception": false,
     "start_time": "2022-02-24T21:23:12.818584",
     "status": "completed"
    },
    "tags": []
   },
   "source": [
    "# 1. Exploraty Data Analysis\n",
    "## 1.1. **Look at missing Data**\n",
    "We can visualize the missing data with a heatmap from seaborn."
   ]
  },
  {
   "cell_type": "code",
   "execution_count": 6,
   "id": "714de037",
   "metadata": {
    "execution": {
     "iopub.execute_input": "2022-02-24T21:23:13.044287Z",
     "iopub.status.busy": "2022-02-24T21:23:13.043559Z",
     "iopub.status.idle": "2022-02-24T21:23:13.053550Z",
     "shell.execute_reply": "2022-02-24T21:23:13.054256Z",
     "shell.execute_reply.started": "2022-02-24T21:15:27.309818Z"
    },
    "papermill": {
     "duration": 0.088504,
     "end_time": "2022-02-24T21:23:13.054462",
     "exception": false,
     "start_time": "2022-02-24T21:23:12.965958",
     "status": "completed"
    },
    "tags": []
   },
   "outputs": [
    {
     "name": "stdout",
     "output_type": "stream",
     "text": [
      "Columns with NaN values in train_data:\n"
     ]
    },
    {
     "data": {
      "text/plain": [
       "['Age', 'Cabin', 'Embarked']"
      ]
     },
     "execution_count": 6,
     "metadata": {},
     "output_type": "execute_result"
    }
   ],
   "source": [
    "print(\"Columns with NaN values in train_data:\")\n",
    "train_data.columns[train_data.isna().any()].tolist()"
   ]
  },
  {
   "cell_type": "code",
   "execution_count": 7,
   "id": "2a06410b",
   "metadata": {
    "execution": {
     "iopub.execute_input": "2022-02-24T21:23:13.208002Z",
     "iopub.status.busy": "2022-02-24T21:23:13.207314Z",
     "iopub.status.idle": "2022-02-24T21:23:13.216796Z",
     "shell.execute_reply": "2022-02-24T21:23:13.217406Z",
     "shell.execute_reply.started": "2022-02-24T21:15:27.326986Z"
    },
    "papermill": {
     "duration": 0.088032,
     "end_time": "2022-02-24T21:23:13.217608",
     "exception": false,
     "start_time": "2022-02-24T21:23:13.129576",
     "status": "completed"
    },
    "tags": []
   },
   "outputs": [
    {
     "data": {
      "text/plain": [
       "PassengerId    0.000000\n",
       "Survived       0.000000\n",
       "Pclass         0.000000\n",
       "Name           0.000000\n",
       "Sex            0.000000\n",
       "Age            0.198653\n",
       "SibSp          0.000000\n",
       "Parch          0.000000\n",
       "Ticket         0.000000\n",
       "Fare           0.000000\n",
       "Cabin          0.771044\n",
       "Embarked       0.002245\n",
       "dtype: float64"
      ]
     },
     "execution_count": 7,
     "metadata": {},
     "output_type": "execute_result"
    }
   ],
   "source": [
    "# Look at the percentage of missing values in the training data\n",
    "train_data.isnull().mean()"
   ]
  },
  {
   "cell_type": "code",
   "execution_count": 8,
   "id": "a4036f1d",
   "metadata": {
    "execution": {
     "iopub.execute_input": "2022-02-24T21:23:13.372120Z",
     "iopub.status.busy": "2022-02-24T21:23:13.371394Z",
     "iopub.status.idle": "2022-02-24T21:23:13.622638Z",
     "shell.execute_reply": "2022-02-24T21:23:13.623191Z",
     "shell.execute_reply.started": "2022-02-24T21:15:27.341384Z"
    },
    "papermill": {
     "duration": 0.329889,
     "end_time": "2022-02-24T21:23:13.623396",
     "exception": false,
     "start_time": "2022-02-24T21:23:13.293507",
     "status": "completed"
    },
    "tags": []
   },
   "outputs": [
    {
     "data": {
      "text/plain": [
       "<AxesSubplot:>"
      ]
     },
     "execution_count": 8,
     "metadata": {},
     "output_type": "execute_result"
    },
    {
     "data": {
      "image/png": "[encoded data removed]",
      "text/plain": [
       "<Figure size 432x288 with 1 Axes>"
      ]
     },
     "metadata": {
      "needs_background": "light"
     },
     "output_type": "display_data"
    }
   ],
   "source": [
    "sns.heatmap(train_data.isnull(), yticklabels=False, cbar=False, cmap='viridis')"
   ]
  },
  {
   "cell_type": "code",
   "execution_count": 9,
   "id": "a858378a",
   "metadata": {
    "execution": {
     "iopub.execute_input": "2022-02-24T21:23:13.780590Z",
     "iopub.status.busy": "2022-02-24T21:23:13.779481Z",
     "iopub.status.idle": "2022-02-24T21:23:13.790598Z",
     "shell.execute_reply": "2022-02-24T21:23:13.790021Z",
     "shell.execute_reply.started": "2022-02-24T21:15:27.653403Z"
    },
    "papermill": {
     "duration": 0.091274,
     "end_time": "2022-02-24T21:23:13.790777",
     "exception": false,
     "start_time": "2022-02-24T21:23:13.699503",
     "status": "completed"
    },
    "tags": []
   },
   "outputs": [
    {
     "name": "stdout",
     "output_type": "stream",
     "text": [
      "Columns with NaN values in train_data:\n"
     ]
    },
    {
     "data": {
      "text/plain": [
       "['Age', 'Fare', 'Cabin']"
      ]
     },
     "execution_count": 9,
     "metadata": {},
     "output_type": "execute_result"
    }
   ],
   "source": [
    "print(\"Columns with NaN values in train_data:\")\n",
    "test_data.columns[test_data.isna().any()].tolist()"
   ]
  },
  {
   "cell_type": "code",
   "execution_count": 10,
   "id": "54ed04b4",
   "metadata": {
    "execution": {
     "iopub.execute_input": "2022-02-24T21:23:13.950065Z",
     "iopub.status.busy": "2022-02-24T21:23:13.949401Z",
     "iopub.status.idle": "2022-02-24T21:23:13.960097Z",
     "shell.execute_reply": "2022-02-24T21:23:13.960636Z",
     "shell.execute_reply.started": "2022-02-24T21:15:27.662569Z"
    },
    "papermill": {
     "duration": 0.091624,
     "end_time": "2022-02-24T21:23:13.960856",
     "exception": false,
     "start_time": "2022-02-24T21:23:13.869232",
     "status": "completed"
    },
    "tags": []
   },
   "outputs": [
    {
     "data": {
      "text/plain": [
       "PassengerId    0.000000\n",
       "Pclass         0.000000\n",
       "Name           0.000000\n",
       "Sex            0.000000\n",
       "Age            0.205742\n",
       "SibSp          0.000000\n",
       "Parch          0.000000\n",
       "Ticket         0.000000\n",
       "Fare           0.002392\n",
       "Cabin          0.782297\n",
       "Embarked       0.000000\n",
       "dtype: float64"
      ]
     },
     "execution_count": 10,
     "metadata": {},
     "output_type": "execute_result"
    }
   ],
   "source": [
    "# Look at the percentage of missing values in the test data\n",
    "test_data.isnull().mean()"
   ]
  },
  {
   "cell_type": "code",
   "execution_count": 11,
   "id": "f1f1b920",
   "metadata": {
    "execution": {
     "iopub.execute_input": "2022-02-24T21:23:14.124292Z",
     "iopub.status.busy": "2022-02-24T21:23:14.123532Z",
     "iopub.status.idle": "2022-02-24T21:23:14.328069Z",
     "shell.execute_reply": "2022-02-24T21:23:14.326407Z",
     "shell.execute_reply.started": "2022-02-24T21:15:27.679381Z"
    },
    "papermill": {
     "duration": 0.289361,
     "end_time": "2022-02-24T21:23:14.328260",
     "exception": false,
     "start_time": "2022-02-24T21:23:14.038899",
     "status": "completed"
    },
    "tags": []
   },
   "outputs": [
    {
     "data": {
      "text/plain": [
       "<AxesSubplot:>"
      ]
     },
     "execution_count": 11,
     "metadata": {},
     "output_type": "execute_result"
    },
    {
     "data": {
      "image/png": "[encoded data removed]",
      "text/plain": [
       "<Figure size 432x288 with 1 Axes>"
      ]
     },
     "metadata": {
      "needs_background": "light"
     },
     "output_type": "display_data"
    }
   ],
   "source": [
    "sns.heatmap(test_data.isnull(), yticklabels=False, cbar=False, cmap='viridis')"
   ]
  },
  {
   "cell_type": "markdown",
   "id": "6d216b06",
   "metadata": {
    "papermill": {
     "duration": 0.078363,
     "end_time": "2022-02-24T21:23:14.484395",
     "exception": false,
     "start_time": "2022-02-24T21:23:14.406032",
     "status": "completed"
    },
    "tags": []
   },
   "source": [
    "Since more almost 78% of data is missing in the column 'Cabin' we will probably drop it or change it into another feature.\n",
    "## 1.2. Helpers"
   ]
  },
  {
   "cell_type": "code",
   "execution_count": 12,
   "id": "1a54f7ed",
   "metadata": {
    "execution": {
     "iopub.execute_input": "2022-02-24T21:23:14.651830Z",
     "iopub.status.busy": "2022-02-24T21:23:14.650664Z",
     "iopub.status.idle": "2022-02-24T21:23:14.653249Z",
     "shell.execute_reply": "2022-02-24T21:23:14.653785Z",
     "shell.execute_reply.started": "2022-02-24T21:15:27.958593Z"
    },
    "papermill": {
     "duration": 0.089104,
     "end_time": "2022-02-24T21:23:14.653998",
     "exception": false,
     "start_time": "2022-02-24T21:23:14.564894",
     "status": "completed"
    },
    "tags": []
   },
   "outputs": [],
   "source": [
    "# To plot on a barchart the survival rate per element in a set of a column\n",
    "def get_survival_rates(dataset, column):\n",
    "    # For q column return an array whose the 1st column are the categories of the column\n",
    "    # And the second column contain the survival rate per category\n",
    "    data = np.array(list(dataset.groupby([column]).Survived.mean().to_dict().items()))\n",
    "    \n",
    "    # Plot, and make sure that y data is float\n",
    "    p = sns.barplot(x=data[:, 0], y=data[:, 1].astype(np.float))\n",
    "\n",
    "    # Drawing  of the survival rate\n",
    "    p.axhline(survival_rate)\n",
    "\n",
    "    # Add legend\n",
    "    p.set_xlabel(column, fontsize = 20)\n",
    "    p.set_ylabel(\"Survival rate per {}\".format(column), fontsize = 20)\n",
    "    return p"
   ]
  },
  {
   "cell_type": "markdown",
   "id": "177e8425",
   "metadata": {
    "papermill": {
     "duration": 0.077829,
     "end_time": "2022-02-24T21:23:14.810315",
     "exception": false,
     "start_time": "2022-02-24T21:23:14.732486",
     "status": "completed"
    },
    "tags": []
   },
   "source": [
    "## **1.3. Survival rate**\n",
    "Number of passengers who survived / Total number of passengers"
   ]
  },
  {
   "cell_type": "code",
   "execution_count": 13,
   "id": "e7c26778",
   "metadata": {
    "execution": {
     "iopub.execute_input": "2022-02-24T21:23:14.970723Z",
     "iopub.status.busy": "2022-02-24T21:23:14.969636Z",
     "iopub.status.idle": "2022-02-24T21:23:14.982990Z",
     "shell.execute_reply": "2022-02-24T21:23:14.982051Z",
     "shell.execute_reply.started": "2022-02-24T21:15:27.968892Z"
    },
    "papermill": {
     "duration": 0.094365,
     "end_time": "2022-02-24T21:23:14.983197",
     "exception": false,
     "start_time": "2022-02-24T21:23:14.888832",
     "status": "completed"
    },
    "tags": []
   },
   "outputs": [
    {
     "name": "stdout",
     "output_type": "stream",
     "text": [
      "Ratio dead / survived:  38.4%\n"
     ]
    }
   ],
   "source": [
    "# Let's be curious and look first at the ratio dead / survived\n",
    "survival_rate = sum(train_data.Survived) / len(train_data)\n",
    "print(\"Ratio dead / survived: \", '{:.1%}'.format(survival_rate))"
   ]
  },
  {
   "cell_type": "markdown",
   "id": "51745b24",
   "metadata": {
    "papermill": {
     "duration": 0.078693,
     "end_time": "2022-02-24T21:23:15.142128",
     "exception": false,
     "start_time": "2022-02-24T21:23:15.063435",
     "status": "completed"
    },
    "tags": []
   },
   "source": [
    "## **1.4. Test Patterns**\n",
    "### **1.4.1. Test Pattern based on sex**\n",
    "We can see huge a huge difference in the survival rate between men and women."
   ]
  },
  {
   "cell_type": "code",
   "execution_count": 14,
   "id": "658e5769",
   "metadata": {
    "execution": {
     "iopub.execute_input": "2022-02-24T21:23:15.305334Z",
     "iopub.status.busy": "2022-02-24T21:23:15.302182Z",
     "iopub.status.idle": "2022-02-24T21:23:15.540154Z",
     "shell.execute_reply": "2022-02-24T21:23:15.539458Z",
     "shell.execute_reply.started": "2022-02-24T21:15:27.984419Z"
    },
    "papermill": {
     "duration": 0.319341,
     "end_time": "2022-02-24T21:23:15.540308",
     "exception": false,
     "start_time": "2022-02-24T21:23:15.220967",
     "status": "completed"
    },
    "tags": []
   },
   "outputs": [
    {
     "data": {
      "text/html": [
       "<div>\n",
       "<style scoped>\n",
       "    .dataframe tbody tr th:only-of-type {\n",
       "        vertical-align: middle;\n",
       "    }\n",
       "\n",
       "    .dataframe tbody tr th {\n",
       "        vertical-align: top;\n",
       "    }\n",
       "\n",
       "    .dataframe thead th {\n",
       "        text-align: right;\n",
       "    }\n",
       "</style>\n",
       "<table border=\"1\" class=\"dataframe\">\n",
       "  <thead>\n",
       "    <tr style=\"text-align: right;\">\n",
       "      <th></th>\n",
       "      <th>Sex</th>\n",
       "      <th>Survived</th>\n",
       "    </tr>\n",
       "  </thead>\n",
       "  <tbody>\n",
       "    <tr>\n",
       "      <th>0</th>\n",
       "      <td>female</td>\n",
       "      <td>0.742038</td>\n",
       "    </tr>\n",
       "    <tr>\n",
       "      <th>1</th>\n",
       "      <td>male</td>\n",
       "      <td>0.188908</td>\n",
       "    </tr>\n",
       "  </tbody>\n",
       "</table>\n",
       "</div>"
      ],
      "text/plain": [
       "      Sex  Survived\n",
       "0  female  0.742038\n",
       "1    male  0.188908"
      ]
     },
     "execution_count": 14,
     "metadata": {},
     "output_type": "execute_result"
    },
    {
     "data": {
      "image/png": "[encoded data removed]",
      "text/plain": [
       "<Figure size 432x288 with 1 Axes>"
      ]
     },
     "metadata": {
      "needs_background": "light"
     },
     "output_type": "display_data"
    }
   ],
   "source": [
    "sns.countplot(x=\"Survived\", hue=\"Sex\", data=train_data)\n",
    "\n",
    "train_data[[\"Sex\", \"Survived\"]].groupby([\"Sex\"], as_index=False).mean()"
   ]
  },
  {
   "cell_type": "code",
   "execution_count": 15,
   "id": "a1615808",
   "metadata": {
    "execution": {
     "iopub.execute_input": "2022-02-24T21:23:15.705700Z",
     "iopub.status.busy": "2022-02-24T21:23:15.704606Z",
     "iopub.status.idle": "2022-02-24T21:23:15.707012Z",
     "shell.execute_reply": "2022-02-24T21:23:15.707632Z",
     "shell.execute_reply.started": "2022-02-24T21:15:28.258375Z"
    },
    "papermill": {
     "duration": 0.088886,
     "end_time": "2022-02-24T21:23:15.707852",
     "exception": false,
     "start_time": "2022-02-24T21:23:15.618966",
     "status": "completed"
    },
    "tags": []
   },
   "outputs": [],
   "source": [
    "# Let's submit data based on the pattern above: return 0 if he passenger is a male, 1 otherwise\n",
    "predictions = test_data.Sex.replace([\"male\", \"female\"], [0, 1])"
   ]
  },
  {
   "cell_type": "markdown",
   "id": "67fe86d0",
   "metadata": {
    "papermill": {
     "duration": 0.078299,
     "end_time": "2022-02-24T21:23:15.865321",
     "exception": false,
     "start_time": "2022-02-24T21:23:15.787022",
     "status": "completed"
    },
    "tags": []
   },
   "source": [
    "This will be give a score of 0.76555. This is our ground basis. Now Let's dive into the data a bit more\n",
    "### **1.4.2. Test Pattern based on age categories**"
   ]
  },
  {
   "cell_type": "code",
   "execution_count": 16,
   "id": "bcf9d7e2",
   "metadata": {
    "execution": {
     "iopub.execute_input": "2022-02-24T21:23:16.028584Z",
     "iopub.status.busy": "2022-02-24T21:23:16.027567Z",
     "iopub.status.idle": "2022-02-24T21:23:16.444392Z",
     "shell.execute_reply": "2022-02-24T21:23:16.444861Z",
     "shell.execute_reply.started": "2022-02-24T21:15:28.269377Z"
    },
    "papermill": {
     "duration": 0.50144,
     "end_time": "2022-02-24T21:23:16.445047",
     "exception": false,
     "start_time": "2022-02-24T21:23:15.943607",
     "status": "completed"
    },
    "tags": []
   },
   "outputs": [
    {
     "data": {
      "text/plain": [
       "<seaborn.axisgrid.FacetGrid at 0x7fd09fa04750>"
      ]
     },
     "execution_count": 16,
     "metadata": {},
     "output_type": "execute_result"
    },
    {
     "data": {
      "image/png": "[encoded data removed]",
      "text/plain": [
       "<Figure size 360x360 with 1 Axes>"
      ]
     },
     "metadata": {
      "needs_background": "light"
     },
     "output_type": "display_data"
    }
   ],
   "source": [
    "sns.displot(train_data['Age'].dropna(), kde=False, bins=40)"
   ]
  },
  {
   "cell_type": "code",
   "execution_count": 17,
   "id": "3b04d568",
   "metadata": {
    "execution": {
     "iopub.execute_input": "2022-02-24T21:23:16.614179Z",
     "iopub.status.busy": "2022-02-24T21:23:16.613167Z",
     "iopub.status.idle": "2022-02-24T21:23:17.111397Z",
     "shell.execute_reply": "2022-02-24T21:23:17.110791Z",
     "shell.execute_reply.started": "2022-02-24T21:15:28.849898Z"
    },
    "papermill": {
     "duration": 0.584112,
     "end_time": "2022-02-24T21:23:17.111556",
     "exception": false,
     "start_time": "2022-02-24T21:23:16.527444",
     "status": "completed"
    },
    "tags": []
   },
   "outputs": [
    {
     "data": {
      "text/plain": [
       "<seaborn.axisgrid.FacetGrid at 0x7fd09f926250>"
      ]
     },
     "execution_count": 17,
     "metadata": {},
     "output_type": "execute_result"
    },
    {
     "data": {
      "image/png": "[encoded data removed]",
      "text/plain": [
       "<Figure size 432x216 with 2 Axes>"
      ]
     },
     "metadata": {
      "needs_background": "light"
     },
     "output_type": "display_data"
    }
   ],
   "source": [
    "g = sns.FacetGrid(train_data, col='Survived')\n",
    "g.map(plt.hist, 'Age', bins=20)"
   ]
  },
  {
   "cell_type": "markdown",
   "id": "d5b39e9c",
   "metadata": {
    "papermill": {
     "duration": 0.080883,
     "end_time": "2022-02-24T21:23:17.274274",
     "exception": false,
     "start_time": "2022-02-24T21:23:17.193391",
     "status": "completed"
    },
    "tags": []
   },
   "source": [
    "Just looking at the graph above, it does not seem that an age category is more prone to survive than another.  <br> \n",
    "<br>\n",
    "\n",
    "### **1.4.3. Test Pattern based on sibsp**\n",
    "Reminder: sibsp is the # of siblings / spouses aboard the Titanic."
   ]
  },
  {
   "cell_type": "code",
   "execution_count": 18,
   "id": "b6b25023",
   "metadata": {
    "execution": {
     "iopub.execute_input": "2022-02-24T21:23:17.441422Z",
     "iopub.status.busy": "2022-02-24T21:23:17.440699Z",
     "iopub.status.idle": "2022-02-24T21:23:17.715881Z",
     "shell.execute_reply": "2022-02-24T21:23:17.716412Z",
     "shell.execute_reply.started": "2022-02-24T21:15:29.683106Z"
    },
    "papermill": {
     "duration": 0.360386,
     "end_time": "2022-02-24T21:23:17.716610",
     "exception": false,
     "start_time": "2022-02-24T21:23:17.356224",
     "status": "completed"
    },
    "tags": []
   },
   "outputs": [
    {
     "data": {
      "text/html": [
       "<div>\n",
       "<style scoped>\n",
       "    .dataframe tbody tr th:only-of-type {\n",
       "        vertical-align: middle;\n",
       "    }\n",
       "\n",
       "    .dataframe tbody tr th {\n",
       "        vertical-align: top;\n",
       "    }\n",
       "\n",
       "    .dataframe thead th {\n",
       "        text-align: right;\n",
       "    }\n",
       "</style>\n",
       "<table border=\"1\" class=\"dataframe\">\n",
       "  <thead>\n",
       "    <tr style=\"text-align: right;\">\n",
       "      <th></th>\n",
       "      <th>SibSp</th>\n",
       "      <th>Survived</th>\n",
       "    </tr>\n",
       "  </thead>\n",
       "  <tbody>\n",
       "    <tr>\n",
       "      <th>1</th>\n",
       "      <td>1</td>\n",
       "      <td>0.535885</td>\n",
       "    </tr>\n",
       "    <tr>\n",
       "      <th>2</th>\n",
       "      <td>2</td>\n",
       "      <td>0.464286</td>\n",
       "    </tr>\n",
       "    <tr>\n",
       "      <th>0</th>\n",
       "      <td>0</td>\n",
       "      <td>0.345395</td>\n",
       "    </tr>\n",
       "    <tr>\n",
       "      <th>3</th>\n",
       "      <td>3</td>\n",
       "      <td>0.250000</td>\n",
       "    </tr>\n",
       "    <tr>\n",
       "      <th>4</th>\n",
       "      <td>4</td>\n",
       "      <td>0.166667</td>\n",
       "    </tr>\n",
       "    <tr>\n",
       "      <th>5</th>\n",
       "      <td>5</td>\n",
       "      <td>0.000000</td>\n",
       "    </tr>\n",
       "    <tr>\n",
       "      <th>6</th>\n",
       "      <td>8</td>\n",
       "      <td>0.000000</td>\n",
       "    </tr>\n",
       "  </tbody>\n",
       "</table>\n",
       "</div>"
      ],
      "text/plain": [
       "   SibSp  Survived\n",
       "1      1  0.535885\n",
       "2      2  0.464286\n",
       "0      0  0.345395\n",
       "3      3  0.250000\n",
       "4      4  0.166667\n",
       "5      5  0.000000\n",
       "6      8  0.000000"
      ]
     },
     "execution_count": 18,
     "metadata": {},
     "output_type": "execute_result"
    },
    {
     "data": {
      "image/png": "[encoded data removed]",
      "text/plain": [
       "<Figure size 864x432 with 1 Axes>"
      ]
     },
     "metadata": {},
     "output_type": "display_data"
    }
   ],
   "source": [
    "sns.set(rc = {'figure.figsize':(12,6)})\n",
    "sns.countplot(x=train_data[\"SibSp\"])\n",
    "\n",
    "train_data[[\"SibSp\", \"Survived\"]].groupby(['SibSp'], as_index=False).mean().sort_values(by='Survived', ascending=False)"
   ]
  },
  {
   "cell_type": "code",
   "execution_count": 19,
   "id": "1da85c5c",
   "metadata": {
    "execution": {
     "iopub.execute_input": "2022-02-24T21:23:17.890138Z",
     "iopub.status.busy": "2022-02-24T21:23:17.889446Z",
     "iopub.status.idle": "2022-02-24T21:23:18.194427Z",
     "shell.execute_reply": "2022-02-24T21:23:18.193872Z",
     "shell.execute_reply.started": "2022-02-24T21:15:29.978972Z"
    },
    "papermill": {
     "duration": 0.39423,
     "end_time": "2022-02-24T21:23:18.194574",
     "exception": false,
     "start_time": "2022-02-24T21:23:17.800344",
     "status": "completed"
    },
    "tags": []
   },
   "outputs": [
    {
     "data": {
      "text/plain": [
       "<AxesSubplot:xlabel='SibSp', ylabel='Survival rate per SibSp'>"
      ]
     },
     "execution_count": 19,
     "metadata": {},
     "output_type": "execute_result"
    },
    {
     "data": {
      "image/png": "[encoded data removed]",
      "text/plain": [
       "<Figure size 864x432 with 1 Axes>"
      ]
     },
     "metadata": {},
     "output_type": "display_data"
    }
   ],
   "source": [
    "get_survival_rates(train_data, \"SibSp\")"
   ]
  },
  {
   "cell_type": "markdown",
   "id": "453009d0",
   "metadata": {
    "papermill": {
     "duration": 0.082501,
     "end_time": "2022-02-24T21:23:18.360079",
     "exception": false,
     "start_time": "2022-02-24T21:23:18.277578",
     "status": "completed"
    },
    "tags": []
   },
   "source": [
    "We can see that none of the passengers with 5 or more siblings survive.\n",
    "### **1.4.4. Test Patterns based on Sex and Sibsp**"
   ]
  },
  {
   "cell_type": "code",
   "execution_count": 20,
   "id": "90c06975",
   "metadata": {
    "execution": {
     "iopub.execute_input": "2022-02-24T21:23:18.542938Z",
     "iopub.status.busy": "2022-02-24T21:23:18.541859Z",
     "iopub.status.idle": "2022-02-24T21:23:18.546782Z",
     "shell.execute_reply": "2022-02-24T21:23:18.546238Z",
     "shell.execute_reply.started": "2022-02-24T21:15:30.320571Z"
    },
    "papermill": {
     "duration": 0.104275,
     "end_time": "2022-02-24T21:23:18.546937",
     "exception": false,
     "start_time": "2022-02-24T21:23:18.442662",
     "status": "completed"
    },
    "tags": []
   },
   "outputs": [
    {
     "data": {
      "text/html": [
       "<div>\n",
       "<style scoped>\n",
       "    .dataframe tbody tr th:only-of-type {\n",
       "        vertical-align: middle;\n",
       "    }\n",
       "\n",
       "    .dataframe tbody tr th {\n",
       "        vertical-align: top;\n",
       "    }\n",
       "\n",
       "    .dataframe thead th {\n",
       "        text-align: right;\n",
       "    }\n",
       "</style>\n",
       "<table border=\"1\" class=\"dataframe\">\n",
       "  <thead>\n",
       "    <tr style=\"text-align: right;\">\n",
       "      <th></th>\n",
       "      <th>SibSp</th>\n",
       "      <th>Survived</th>\n",
       "    </tr>\n",
       "  </thead>\n",
       "  <tbody>\n",
       "    <tr>\n",
       "      <th>0</th>\n",
       "      <td>0</td>\n",
       "      <td>0.787356</td>\n",
       "    </tr>\n",
       "    <tr>\n",
       "      <th>1</th>\n",
       "      <td>1</td>\n",
       "      <td>0.754717</td>\n",
       "    </tr>\n",
       "    <tr>\n",
       "      <th>2</th>\n",
       "      <td>2</td>\n",
       "      <td>0.769231</td>\n",
       "    </tr>\n",
       "    <tr>\n",
       "      <th>3</th>\n",
       "      <td>3</td>\n",
       "      <td>0.363636</td>\n",
       "    </tr>\n",
       "    <tr>\n",
       "      <th>4</th>\n",
       "      <td>4</td>\n",
       "      <td>0.333333</td>\n",
       "    </tr>\n",
       "    <tr>\n",
       "      <th>5</th>\n",
       "      <td>5</td>\n",
       "      <td>0.000000</td>\n",
       "    </tr>\n",
       "    <tr>\n",
       "      <th>6</th>\n",
       "      <td>8</td>\n",
       "      <td>0.000000</td>\n",
       "    </tr>\n",
       "  </tbody>\n",
       "</table>\n",
       "</div>"
      ],
      "text/plain": [
       "   SibSp  Survived\n",
       "0      0  0.787356\n",
       "1      1  0.754717\n",
       "2      2  0.769231\n",
       "3      3  0.363636\n",
       "4      4  0.333333\n",
       "5      5  0.000000\n",
       "6      8  0.000000"
      ]
     },
     "execution_count": 20,
     "metadata": {},
     "output_type": "execute_result"
    }
   ],
   "source": [
    "# Table with survial rate per number of siblings, for women only\n",
    "train_data[[\"SibSp\", \"Sex\", \"Survived\"]][train_data.Sex == 'female'].groupby(['SibSp'], as_index=False).mean().head(10)"
   ]
  },
  {
   "cell_type": "markdown",
   "id": "b1bb90f0",
   "metadata": {
    "papermill": {
     "duration": 0.085443,
     "end_time": "2022-02-24T21:23:18.717665",
     "exception": false,
     "start_time": "2022-02-24T21:23:18.632222",
     "status": "completed"
    },
    "tags": []
   },
   "source": [
    "We can see from this data that women with 3 or more siblings are much more likely to be dead (around twive more likely)."
   ]
  },
  {
   "cell_type": "code",
   "execution_count": 21,
   "id": "029aee60",
   "metadata": {
    "execution": {
     "iopub.execute_input": "2022-02-24T21:23:18.903942Z",
     "iopub.status.busy": "2022-02-24T21:23:18.903169Z",
     "iopub.status.idle": "2022-02-24T21:23:18.906860Z",
     "shell.execute_reply": "2022-02-24T21:23:18.906202Z",
     "shell.execute_reply.started": "2022-02-24T21:15:30.351760Z"
    },
    "papermill": {
     "duration": 0.104115,
     "end_time": "2022-02-24T21:23:18.907018",
     "exception": false,
     "start_time": "2022-02-24T21:23:18.802903",
     "status": "completed"
    },
    "tags": []
   },
   "outputs": [
    {
     "data": {
      "text/html": [
       "<div>\n",
       "<style scoped>\n",
       "    .dataframe tbody tr th:only-of-type {\n",
       "        vertical-align: middle;\n",
       "    }\n",
       "\n",
       "    .dataframe tbody tr th {\n",
       "        vertical-align: top;\n",
       "    }\n",
       "\n",
       "    .dataframe thead th {\n",
       "        text-align: right;\n",
       "    }\n",
       "</style>\n",
       "<table border=\"1\" class=\"dataframe\">\n",
       "  <thead>\n",
       "    <tr style=\"text-align: right;\">\n",
       "      <th></th>\n",
       "      <th>SibSp</th>\n",
       "      <th>Survived</th>\n",
       "    </tr>\n",
       "  </thead>\n",
       "  <tbody>\n",
       "    <tr>\n",
       "      <th>0</th>\n",
       "      <td>0</td>\n",
       "      <td>0.168203</td>\n",
       "    </tr>\n",
       "    <tr>\n",
       "      <th>1</th>\n",
       "      <td>1</td>\n",
       "      <td>0.310680</td>\n",
       "    </tr>\n",
       "    <tr>\n",
       "      <th>2</th>\n",
       "      <td>2</td>\n",
       "      <td>0.200000</td>\n",
       "    </tr>\n",
       "    <tr>\n",
       "      <th>3</th>\n",
       "      <td>3</td>\n",
       "      <td>0.000000</td>\n",
       "    </tr>\n",
       "    <tr>\n",
       "      <th>4</th>\n",
       "      <td>4</td>\n",
       "      <td>0.083333</td>\n",
       "    </tr>\n",
       "    <tr>\n",
       "      <th>5</th>\n",
       "      <td>5</td>\n",
       "      <td>0.000000</td>\n",
       "    </tr>\n",
       "    <tr>\n",
       "      <th>6</th>\n",
       "      <td>8</td>\n",
       "      <td>0.000000</td>\n",
       "    </tr>\n",
       "  </tbody>\n",
       "</table>\n",
       "</div>"
      ],
      "text/plain": [
       "   SibSp  Survived\n",
       "0      0  0.168203\n",
       "1      1  0.310680\n",
       "2      2  0.200000\n",
       "3      3  0.000000\n",
       "4      4  0.083333\n",
       "5      5  0.000000\n",
       "6      8  0.000000"
      ]
     },
     "execution_count": 21,
     "metadata": {},
     "output_type": "execute_result"
    }
   ],
   "source": [
    "# Table with survial rate per number of siblings, for men only\n",
    "train_data[[\"SibSp\", \"Sex\", \"Survived\"]][train_data.Sex == 'male'].groupby(['SibSp'], as_index=False).mean().head(10)"
   ]
  },
  {
   "cell_type": "markdown",
   "id": "9fb453a1",
   "metadata": {
    "papermill": {
     "duration": 0.085086,
     "end_time": "2022-02-24T21:23:19.077331",
     "exception": false,
     "start_time": "2022-02-24T21:23:18.992245",
     "status": "completed"
    },
    "tags": []
   },
   "source": [
    "We can see from the data above that:\n",
    "* All men with 3, 5 or 8 siblings are dead\n",
    "* Men with 4 siblings are more that twive more likely to be dead\n",
    "<br>\n",
    "\n",
    "### **1.4.5. Test Pattern on Pclass**"
   ]
  },
  {
   "cell_type": "code",
   "execution_count": 22,
   "id": "966df53a",
   "metadata": {
    "execution": {
     "iopub.execute_input": "2022-02-24T21:23:19.253966Z",
     "iopub.status.busy": "2022-02-24T21:23:19.253178Z",
     "iopub.status.idle": "2022-02-24T21:23:19.533855Z",
     "shell.execute_reply": "2022-02-24T21:23:19.534366Z",
     "shell.execute_reply.started": "2022-02-24T21:15:30.376398Z"
    },
    "papermill": {
     "duration": 0.372665,
     "end_time": "2022-02-24T21:23:19.534581",
     "exception": false,
     "start_time": "2022-02-24T21:23:19.161916",
     "status": "completed"
    },
    "tags": []
   },
   "outputs": [
    {
     "data": {
      "text/plain": [
       "<AxesSubplot:xlabel='Survived', ylabel='count'>"
      ]
     },
     "execution_count": 22,
     "metadata": {},
     "output_type": "execute_result"
    },
    {
     "data": {
      "image/png": "[encoded data removed]",
      "text/plain": [
       "<Figure size 864x432 with 1 Axes>"
      ]
     },
     "metadata": {},
     "output_type": "display_data"
    }
   ],
   "source": [
    "sns.countplot(x=\"Survived\", hue=\"Pclass\", data=train_data)"
   ]
  },
  {
   "cell_type": "code",
   "execution_count": 23,
   "id": "6ee673a5",
   "metadata": {
    "execution": {
     "iopub.execute_input": "2022-02-24T21:23:19.723959Z",
     "iopub.status.busy": "2022-02-24T21:23:19.723095Z",
     "iopub.status.idle": "2022-02-24T21:23:19.727014Z",
     "shell.execute_reply": "2022-02-24T21:23:19.726353Z",
     "shell.execute_reply.started": "2022-02-24T21:15:30.662688Z"
    },
    "papermill": {
     "duration": 0.106677,
     "end_time": "2022-02-24T21:23:19.727174",
     "exception": false,
     "start_time": "2022-02-24T21:23:19.620497",
     "status": "completed"
    },
    "tags": []
   },
   "outputs": [
    {
     "data": {
      "text/html": [
       "<div>\n",
       "<style scoped>\n",
       "    .dataframe tbody tr th:only-of-type {\n",
       "        vertical-align: middle;\n",
       "    }\n",
       "\n",
       "    .dataframe tbody tr th {\n",
       "        vertical-align: top;\n",
       "    }\n",
       "\n",
       "    .dataframe thead th {\n",
       "        text-align: right;\n",
       "    }\n",
       "</style>\n",
       "<table border=\"1\" class=\"dataframe\">\n",
       "  <thead>\n",
       "    <tr style=\"text-align: right;\">\n",
       "      <th></th>\n",
       "      <th>Pclass</th>\n",
       "      <th>Survived</th>\n",
       "    </tr>\n",
       "  </thead>\n",
       "  <tbody>\n",
       "    <tr>\n",
       "      <th>0</th>\n",
       "      <td>1</td>\n",
       "      <td>0.629630</td>\n",
       "    </tr>\n",
       "    <tr>\n",
       "      <th>1</th>\n",
       "      <td>2</td>\n",
       "      <td>0.472826</td>\n",
       "    </tr>\n",
       "    <tr>\n",
       "      <th>2</th>\n",
       "      <td>3</td>\n",
       "      <td>0.242363</td>\n",
       "    </tr>\n",
       "  </tbody>\n",
       "</table>\n",
       "</div>"
      ],
      "text/plain": [
       "   Pclass  Survived\n",
       "0       1  0.629630\n",
       "1       2  0.472826\n",
       "2       3  0.242363"
      ]
     },
     "execution_count": 23,
     "metadata": {},
     "output_type": "execute_result"
    }
   ],
   "source": [
    "train_data[[\"Pclass\", \"Survived\"]].groupby(['Pclass'], as_index=False).mean().sort_values(by='Survived', ascending=False)"
   ]
  },
  {
   "cell_type": "markdown",
   "id": "e6fd6805",
   "metadata": {
    "papermill": {
     "duration": 0.086753,
     "end_time": "2022-02-24T21:23:19.899950",
     "exception": false,
     "start_time": "2022-02-24T21:23:19.813197",
     "status": "completed"
    },
    "tags": []
   },
   "source": [
    "Pclass 1 is almost 3 times more likely to survive than Pclass 3 !!"
   ]
  },
  {
   "cell_type": "markdown",
   "id": "f99b1949",
   "metadata": {
    "papermill": {
     "duration": 0.086884,
     "end_time": "2022-02-24T21:23:20.073840",
     "exception": false,
     "start_time": "2022-02-24T21:23:19.986956",
     "status": "completed"
    },
    "tags": []
   },
   "source": [
    "### **1.4.6. Test Pattern based on Embarked**"
   ]
  },
  {
   "cell_type": "code",
   "execution_count": 24,
   "id": "acf516d9",
   "metadata": {
    "execution": {
     "iopub.execute_input": "2022-02-24T21:23:20.269871Z",
     "iopub.status.busy": "2022-02-24T21:23:20.255019Z",
     "iopub.status.idle": "2022-02-24T21:23:21.735045Z",
     "shell.execute_reply": "2022-02-24T21:23:21.734419Z",
     "shell.execute_reply.started": "2022-02-24T21:15:30.680122Z"
    },
    "papermill": {
     "duration": 1.57514,
     "end_time": "2022-02-24T21:23:21.735223",
     "exception": false,
     "start_time": "2022-02-24T21:23:20.160083",
     "status": "completed"
    },
    "tags": []
   },
   "outputs": [
    {
     "data": {
      "text/plain": [
       "<seaborn.axisgrid.FacetGrid at 0x7fd09f5b2350>"
      ]
     },
     "execution_count": 24,
     "metadata": {},
     "output_type": "execute_result"
    },
    {
     "data": {
      "image/png": "[encoded data removed]",
      "text/plain": [
       "<Figure size 331.415x475.2 with 3 Axes>"
      ]
     },
     "metadata": {},
     "output_type": "display_data"
    }
   ],
   "source": [
    "grid = sns.FacetGrid(train_data, row='Embarked', height=2.2, aspect=1.6)\n",
    "grid.map(sns.pointplot, 'Pclass', 'Survived', 'Sex', palette='deep', order=[1,2,3], hue_order=[\"female\",\"male\"])\n",
    "#grid.map(sns.pointplot(x='Pclass', y='Survived', hue='Sex', data=train_data, palette='deep'))\n",
    "grid.add_legend()"
   ]
  },
  {
   "cell_type": "markdown",
   "id": "bae64cf8",
   "metadata": {
    "papermill": {
     "duration": 0.099667,
     "end_time": "2022-02-24T21:23:21.923612",
     "exception": false,
     "start_time": "2022-02-24T21:23:21.823945",
     "status": "completed"
    },
    "tags": []
   },
   "source": [
    "### **1.4.8. Test Pattern on Fare**"
   ]
  },
  {
   "cell_type": "code",
   "execution_count": 25,
   "id": "8fc77968",
   "metadata": {
    "execution": {
     "iopub.execute_input": "2022-02-24T21:23:22.111522Z",
     "iopub.status.busy": "2022-02-24T21:23:22.110739Z",
     "iopub.status.idle": "2022-02-24T21:23:22.492985Z",
     "shell.execute_reply": "2022-02-24T21:23:22.493562Z",
     "shell.execute_reply.started": "2022-02-24T21:15:32.152700Z"
    },
    "papermill": {
     "duration": 0.476901,
     "end_time": "2022-02-24T21:23:22.493779",
     "exception": false,
     "start_time": "2022-02-24T21:23:22.016878",
     "status": "completed"
    },
    "tags": []
   },
   "outputs": [
    {
     "data": {
      "text/plain": [
       "<AxesSubplot:>"
      ]
     },
     "execution_count": 25,
     "metadata": {},
     "output_type": "execute_result"
    },
    {
     "data": {
      "image/png": "[encoded data removed]",
      "text/plain": [
       "<Figure size 864x432 with 1 Axes>"
      ]
     },
     "metadata": {},
     "output_type": "display_data"
    }
   ],
   "source": [
    "train_data['Fare'].hist(bins=40)"
   ]
  },
  {
   "cell_type": "code",
   "execution_count": 26,
   "id": "6dee86de",
   "metadata": {
    "execution": {
     "iopub.execute_input": "2022-02-24T21:23:22.681626Z",
     "iopub.status.busy": "2022-02-24T21:23:22.680927Z",
     "iopub.status.idle": "2022-02-24T21:23:24.147098Z",
     "shell.execute_reply": "2022-02-24T21:23:24.147642Z",
     "shell.execute_reply.started": "2022-02-24T21:15:32.546181Z"
    },
    "papermill": {
     "duration": 1.563759,
     "end_time": "2022-02-24T21:23:24.147855",
     "exception": false,
     "start_time": "2022-02-24T21:23:22.584096",
     "status": "completed"
    },
    "tags": []
   },
   "outputs": [
    {
     "name": "stderr",
     "output_type": "stream",
     "text": [
      "/opt/conda/lib/python3.7/site-packages/seaborn/axisgrid.py:670: UserWarning: Using the barplot function without specifying `order` is likely to produce an incorrect plot.\n",
      "  warnings.warn(warning)\n"
     ]
    },
    {
     "data": {
      "text/plain": [
       "<seaborn.axisgrid.FacetGrid at 0x7fd09f30f650>"
      ]
     },
     "execution_count": 26,
     "metadata": {},
     "output_type": "execute_result"
    },
    {
     "data": {
      "image/png": "[encoded data removed]",
      "text/plain": [
       "<Figure size 515.68x475.2 with 6 Axes>"
      ]
     },
     "metadata": {},
     "output_type": "display_data"
    }
   ],
   "source": [
    "grid = sns.FacetGrid(train_data, row='Embarked', col='Survived', height=2.2, aspect=1.6)\n",
    "grid.map(sns.barplot, 'Sex', 'Fare', alpha=.5, ci=None)\n",
    "grid.add_legend()"
   ]
  },
  {
   "cell_type": "markdown",
   "id": "efb1a917",
   "metadata": {
    "papermill": {
     "duration": 0.090194,
     "end_time": "2022-02-24T21:23:24.337065",
     "exception": false,
     "start_time": "2022-02-24T21:23:24.246871",
     "status": "completed"
    },
    "tags": []
   },
   "source": [
    "## **1.5. Data Cleaning**"
   ]
  },
  {
   "cell_type": "code",
   "execution_count": 27,
   "id": "c909f8d0",
   "metadata": {
    "execution": {
     "iopub.execute_input": "2022-02-24T21:23:24.530637Z",
     "iopub.status.busy": "2022-02-24T21:23:24.527210Z",
     "iopub.status.idle": "2022-02-24T21:23:24.533102Z",
     "shell.execute_reply": "2022-02-24T21:23:24.533591Z",
     "shell.execute_reply.started": "2022-02-24T21:15:33.822901Z"
    },
    "papermill": {
     "duration": 0.104981,
     "end_time": "2022-02-24T21:23:24.533791",
     "exception": false,
     "start_time": "2022-02-24T21:23:24.428810",
     "status": "completed"
    },
    "tags": []
   },
   "outputs": [
    {
     "data": {
      "text/plain": [
       "PassengerId      0\n",
       "Survived         0\n",
       "Pclass           0\n",
       "Name             0\n",
       "Sex              0\n",
       "Age            177\n",
       "SibSp            0\n",
       "Parch            0\n",
       "Ticket           0\n",
       "Fare             0\n",
       "Cabin          687\n",
       "Embarked         2\n",
       "dtype: int64"
      ]
     },
     "execution_count": 27,
     "metadata": {},
     "output_type": "execute_result"
    }
   ],
   "source": [
    "# Reminder\n",
    "train_data.isnull().sum()"
   ]
  },
  {
   "cell_type": "code",
   "execution_count": 28,
   "id": "d01a6bb8",
   "metadata": {
    "execution": {
     "iopub.execute_input": "2022-02-24T21:23:24.720136Z",
     "iopub.status.busy": "2022-02-24T21:23:24.719370Z",
     "iopub.status.idle": "2022-02-24T21:23:24.727353Z",
     "shell.execute_reply": "2022-02-24T21:23:24.727872Z",
     "shell.execute_reply.started": "2022-02-24T21:15:33.835515Z"
    },
    "papermill": {
     "duration": 0.10367,
     "end_time": "2022-02-24T21:23:24.728070",
     "exception": false,
     "start_time": "2022-02-24T21:23:24.624400",
     "status": "completed"
    },
    "tags": []
   },
   "outputs": [
    {
     "data": {
      "text/plain": [
       "PassengerId      0\n",
       "Pclass           0\n",
       "Name             0\n",
       "Sex              0\n",
       "Age             86\n",
       "SibSp            0\n",
       "Parch            0\n",
       "Ticket           0\n",
       "Fare             1\n",
       "Cabin          327\n",
       "Embarked         0\n",
       "dtype: int64"
      ]
     },
     "execution_count": 28,
     "metadata": {},
     "output_type": "execute_result"
    }
   ],
   "source": [
    "# Reminder\n",
    "test_data.isnull().sum()"
   ]
  },
  {
   "cell_type": "markdown",
   "id": "96c5e6c3",
   "metadata": {
    "papermill": {
     "duration": 0.09221,
     "end_time": "2022-02-24T21:23:24.911647",
     "exception": false,
     "start_time": "2022-02-24T21:23:24.819437",
     "status": "completed"
    },
    "tags": []
   },
   "source": [
    "### 1.5.1. Dropping features\n",
    "For now we drop the 'Cabin' and 'Ticket' column because too many data are missing for this feature. Let's also drop the feature 'Name'. We won't use it for the time being."
   ]
  },
  {
   "cell_type": "code",
   "execution_count": 29,
   "id": "dfba28c3",
   "metadata": {
    "execution": {
     "iopub.execute_input": "2022-02-24T21:23:25.104950Z",
     "iopub.status.busy": "2022-02-24T21:23:25.104248Z",
     "iopub.status.idle": "2022-02-24T21:23:25.110850Z",
     "shell.execute_reply": "2022-02-24T21:23:25.111569Z",
     "shell.execute_reply.started": "2022-02-24T21:15:33.850530Z"
    },
    "papermill": {
     "duration": 0.107404,
     "end_time": "2022-02-24T21:23:25.111797",
     "exception": false,
     "start_time": "2022-02-24T21:23:25.004393",
     "status": "completed"
    },
    "tags": []
   },
   "outputs": [],
   "source": [
    "train_data.drop(['Cabin', 'Ticket', 'Name', \"PassengerId\"], axis=1, inplace=True)\n",
    "test_data.drop(['Cabin', 'Ticket', 'Name'], axis=1, inplace=True)\n",
    "\n",
    "train_data.dropna(inplace=True)\n",
    "#test_data.dropna(inplace=True)"
   ]
  },
  {
   "cell_type": "markdown",
   "id": "7cc0646c",
   "metadata": {
    "papermill": {
     "duration": 0.092043,
     "end_time": "2022-02-24T21:23:25.295541",
     "exception": false,
     "start_time": "2022-02-24T21:23:25.203498",
     "status": "completed"
    },
    "tags": []
   },
   "source": [
    "### 1.5.2 Age - Inference for missing values\n",
    "We will assume that Age is missing completely at random (MCAR). A possible approach would be to replace the NaN values randomly from the given ages (**Random Sample Imputation**). However we can expect a correlation between the age and the Pclass. Let's look at that..."
   ]
  },
  {
   "cell_type": "code",
   "execution_count": 30,
   "id": "86fc3cd1",
   "metadata": {
    "execution": {
     "iopub.execute_input": "2022-02-24T21:23:25.481884Z",
     "iopub.status.busy": "2022-02-24T21:23:25.480859Z",
     "iopub.status.idle": "2022-02-24T21:23:25.755932Z",
     "shell.execute_reply": "2022-02-24T21:23:25.755191Z",
     "shell.execute_reply.started": "2022-02-24T21:15:33.867651Z"
    },
    "papermill": {
     "duration": 0.369337,
     "end_time": "2022-02-24T21:23:25.756098",
     "exception": false,
     "start_time": "2022-02-24T21:23:25.386761",
     "status": "completed"
    },
    "tags": []
   },
   "outputs": [
    {
     "name": "stdout",
     "output_type": "stream",
     "text": [
      "Mean age of Pclass 1 : 38.10554347826087\n",
      "Mean age of Pclass 2 : 29.87763005780347\n",
      "Mean age of Pclass 3 : 25.14061971830986\n"
     ]
    },
    {
     "data": {
      "image/png": "[encoded data removed]",
      "text/plain": [
       "<Figure size 864x432 with 1 Axes>"
      ]
     },
     "metadata": {},
     "output_type": "display_data"
    }
   ],
   "source": [
    "sns.boxplot(x='Pclass', y='Age', data=train_data)\n",
    "mean_ages = dict() # mean age per Pclass\n",
    "for i in set(train_data.Pclass):\n",
    "    mean = np.mean(train_data[train_data.Pclass == i]['Age'].dropna())\n",
    "    mean_ages[i] = mean\n",
    "    print(('Mean age of Pclass {} : {}').format(i, mean))"
   ]
  },
  {
   "cell_type": "markdown",
   "id": "dcc968b9",
   "metadata": {
    "papermill": {
     "duration": 0.091397,
     "end_time": "2022-02-24T21:23:25.940590",
     "exception": false,
     "start_time": "2022-02-24T21:23:25.849193",
     "status": "completed"
    },
    "tags": []
   },
   "source": [
    "Looking at the chart above, we can see that the age is also correlated with the Pclass. The avarage age to Pclass is higher than the one of Pclass 3. Thi can be expected (one can fairly assume that, in general,  an older person can afford more than a younger one). This, another imputation method could have been to calculate the average age per Pclass."
   ]
  },
  {
   "cell_type": "code",
   "execution_count": 31,
   "id": "3e3d842e",
   "metadata": {
    "execution": {
     "iopub.execute_input": "2022-02-24T21:23:26.149959Z",
     "iopub.status.busy": "2022-02-24T21:23:26.149223Z",
     "iopub.status.idle": "2022-02-24T21:23:26.152119Z",
     "shell.execute_reply": "2022-02-24T21:23:26.151534Z",
     "shell.execute_reply.started": "2022-02-24T21:15:34.176166Z"
    },
    "papermill": {
     "duration": 0.119658,
     "end_time": "2022-02-24T21:23:26.152294",
     "exception": false,
     "start_time": "2022-02-24T21:23:26.032636",
     "status": "completed"
    },
    "tags": []
   },
   "outputs": [],
   "source": [
    "def impute_age(dataset):\n",
    "    dataset[\"Age_imputed\"] = dataset.Age\n",
    "    random_sample=dataset.Age.dropna().sample(dataset.Age.isnull().sum(), random_state=0)\n",
    "    random_sample.index=dataset[dataset.Age.isnull()].index\n",
    "    dataset.loc[dataset.Age.isnull(), \"Age_imputed\"]=random_sample"
   ]
  },
  {
   "cell_type": "code",
   "execution_count": 32,
   "id": "fbce8e30",
   "metadata": {
    "execution": {
     "iopub.execute_input": "2022-02-24T21:23:26.344254Z",
     "iopub.status.busy": "2022-02-24T21:23:26.343578Z",
     "iopub.status.idle": "2022-02-24T21:23:26.350747Z",
     "shell.execute_reply": "2022-02-24T21:23:26.351330Z",
     "shell.execute_reply.started": "2022-02-24T21:15:34.186260Z"
    },
    "papermill": {
     "duration": 0.106536,
     "end_time": "2022-02-24T21:23:26.351538",
     "exception": false,
     "start_time": "2022-02-24T21:23:26.245002",
     "status": "completed"
    },
    "tags": []
   },
   "outputs": [],
   "source": [
    "impute_age(train_data)"
   ]
  },
  {
   "cell_type": "code",
   "execution_count": 33,
   "id": "21595785",
   "metadata": {
    "execution": {
     "iopub.execute_input": "2022-02-24T21:23:26.553002Z",
     "iopub.status.busy": "2022-02-24T21:23:26.552318Z",
     "iopub.status.idle": "2022-02-24T21:23:26.937454Z",
     "shell.execute_reply": "2022-02-24T21:23:26.938048Z",
     "shell.execute_reply.started": "2022-02-24T21:15:34.208513Z"
    },
    "papermill": {
     "duration": 0.494222,
     "end_time": "2022-02-24T21:23:26.938249",
     "exception": false,
     "start_time": "2022-02-24T21:23:26.444027",
     "status": "completed"
    },
    "tags": []
   },
   "outputs": [
    {
     "data": {
      "text/plain": [
       "<matplotlib.legend.Legend at 0x7fd09f198f90>"
      ]
     },
     "execution_count": 33,
     "metadata": {},
     "output_type": "execute_result"
    },
    {
     "data": {
      "image/png": "[encoded data removed]",
      "text/plain": [
       "<Figure size 864x432 with 1 Axes>"
      ]
     },
     "metadata": {},
     "output_type": "display_data"
    }
   ],
   "source": [
    "fig = plt.figure()\n",
    "ax = fig.add_subplot(111)\n",
    "train_data.Age.plot(kind='kde', ax=ax)\n",
    "train_data.Age_imputed.plot(kind='kde', ax=ax, color='red')\n",
    "lines, labels = ax.get_legend_handles_labels()\n",
    "ax.legend(lines, labels, loc='best')"
   ]
  },
  {
   "cell_type": "markdown",
   "id": "2efcc99a",
   "metadata": {
    "papermill": {
     "duration": 0.094099,
     "end_time": "2022-02-24T21:23:27.126724",
     "exception": false,
     "start_time": "2022-02-24T21:23:27.032625",
     "status": "completed"
    },
    "tags": []
   },
   "source": [
    "Almost no change in the variance, very nice !"
   ]
  },
  {
   "cell_type": "code",
   "execution_count": 34,
   "id": "f26beec9",
   "metadata": {
    "execution": {
     "iopub.execute_input": "2022-02-24T21:23:27.321235Z",
     "iopub.status.busy": "2022-02-24T21:23:27.320484Z",
     "iopub.status.idle": "2022-02-24T21:23:27.339621Z",
     "shell.execute_reply": "2022-02-24T21:23:27.338961Z",
     "shell.execute_reply.started": "2022-02-24T21:15:34.629949Z"
    },
    "papermill": {
     "duration": 0.11623,
     "end_time": "2022-02-24T21:23:27.339794",
     "exception": false,
     "start_time": "2022-02-24T21:23:27.223564",
     "status": "completed"
    },
    "tags": []
   },
   "outputs": [
    {
     "data": {
      "text/html": [
       "<div>\n",
       "<style scoped>\n",
       "    .dataframe tbody tr th:only-of-type {\n",
       "        vertical-align: middle;\n",
       "    }\n",
       "\n",
       "    .dataframe tbody tr th {\n",
       "        vertical-align: top;\n",
       "    }\n",
       "\n",
       "    .dataframe thead th {\n",
       "        text-align: right;\n",
       "    }\n",
       "</style>\n",
       "<table border=\"1\" class=\"dataframe\">\n",
       "  <thead>\n",
       "    <tr style=\"text-align: right;\">\n",
       "      <th></th>\n",
       "      <th>PassengerId</th>\n",
       "      <th>Pclass</th>\n",
       "      <th>Sex</th>\n",
       "      <th>Age</th>\n",
       "      <th>SibSp</th>\n",
       "      <th>Parch</th>\n",
       "      <th>Fare</th>\n",
       "      <th>Embarked</th>\n",
       "      <th>Age_imputed</th>\n",
       "    </tr>\n",
       "  </thead>\n",
       "  <tbody>\n",
       "    <tr>\n",
       "      <th>0</th>\n",
       "      <td>892</td>\n",
       "      <td>3</td>\n",
       "      <td>male</td>\n",
       "      <td>34.5</td>\n",
       "      <td>0</td>\n",
       "      <td>0</td>\n",
       "      <td>7.8292</td>\n",
       "      <td>Q</td>\n",
       "      <td>34.5</td>\n",
       "    </tr>\n",
       "    <tr>\n",
       "      <th>1</th>\n",
       "      <td>893</td>\n",
       "      <td>3</td>\n",
       "      <td>female</td>\n",
       "      <td>47.0</td>\n",
       "      <td>1</td>\n",
       "      <td>0</td>\n",
       "      <td>7.0000</td>\n",
       "      <td>S</td>\n",
       "      <td>47.0</td>\n",
       "    </tr>\n",
       "    <tr>\n",
       "      <th>2</th>\n",
       "      <td>894</td>\n",
       "      <td>2</td>\n",
       "      <td>male</td>\n",
       "      <td>62.0</td>\n",
       "      <td>0</td>\n",
       "      <td>0</td>\n",
       "      <td>9.6875</td>\n",
       "      <td>Q</td>\n",
       "      <td>62.0</td>\n",
       "    </tr>\n",
       "    <tr>\n",
       "      <th>3</th>\n",
       "      <td>895</td>\n",
       "      <td>3</td>\n",
       "      <td>male</td>\n",
       "      <td>27.0</td>\n",
       "      <td>0</td>\n",
       "      <td>0</td>\n",
       "      <td>8.6625</td>\n",
       "      <td>S</td>\n",
       "      <td>27.0</td>\n",
       "    </tr>\n",
       "    <tr>\n",
       "      <th>4</th>\n",
       "      <td>896</td>\n",
       "      <td>3</td>\n",
       "      <td>female</td>\n",
       "      <td>22.0</td>\n",
       "      <td>1</td>\n",
       "      <td>1</td>\n",
       "      <td>12.2875</td>\n",
       "      <td>S</td>\n",
       "      <td>22.0</td>\n",
       "    </tr>\n",
       "  </tbody>\n",
       "</table>\n",
       "</div>"
      ],
      "text/plain": [
       "   PassengerId  Pclass     Sex   Age  SibSp  Parch     Fare Embarked  \\\n",
       "0          892       3    male  34.5      0      0   7.8292        Q   \n",
       "1          893       3  female  47.0      1      0   7.0000        S   \n",
       "2          894       2    male  62.0      0      0   9.6875        Q   \n",
       "3          895       3    male  27.0      0      0   8.6625        S   \n",
       "4          896       3  female  22.0      1      1  12.2875        S   \n",
       "\n",
       "   Age_imputed  \n",
       "0         34.5  \n",
       "1         47.0  \n",
       "2         62.0  \n",
       "3         27.0  \n",
       "4         22.0  "
      ]
     },
     "execution_count": 34,
     "metadata": {},
     "output_type": "execute_result"
    }
   ],
   "source": [
    "# Let's do the same for test_data\n",
    "impute_age(test_data)\n",
    "test_data.head()"
   ]
  },
  {
   "cell_type": "code",
   "execution_count": 35,
   "id": "b8b01612",
   "metadata": {
    "execution": {
     "iopub.execute_input": "2022-02-24T21:23:27.535430Z",
     "iopub.status.busy": "2022-02-24T21:23:27.534644Z",
     "iopub.status.idle": "2022-02-24T21:23:27.542361Z",
     "shell.execute_reply": "2022-02-24T21:23:27.541728Z",
     "shell.execute_reply.started": "2022-02-24T21:15:34.656531Z"
    },
    "papermill": {
     "duration": 0.106263,
     "end_time": "2022-02-24T21:23:27.542511",
     "exception": false,
     "start_time": "2022-02-24T21:23:27.436248",
     "status": "completed"
    },
    "tags": []
   },
   "outputs": [],
   "source": [
    "train_data.drop('Age', axis=1, inplace=True)\n",
    "test_data.drop('Age', axis=1, inplace=True)"
   ]
  },
  {
   "cell_type": "markdown",
   "id": "073d8a26",
   "metadata": {
    "papermill": {
     "duration": 0.096836,
     "end_time": "2022-02-24T21:23:27.733871",
     "exception": false,
     "start_time": "2022-02-24T21:23:27.637035",
     "status": "completed"
    },
    "tags": []
   },
   "source": [
    "### 1.5.3 Age - Convert to categorical values"
   ]
  },
  {
   "cell_type": "code",
   "execution_count": 36,
   "id": "37b70e54",
   "metadata": {
    "execution": {
     "iopub.execute_input": "2022-02-24T21:23:27.929185Z",
     "iopub.status.busy": "2022-02-24T21:23:27.928528Z",
     "iopub.status.idle": "2022-02-24T21:23:27.955730Z",
     "shell.execute_reply": "2022-02-24T21:23:27.955021Z",
     "shell.execute_reply.started": "2022-02-24T21:15:34.668487Z"
    },
    "papermill": {
     "duration": 0.124996,
     "end_time": "2022-02-24T21:23:27.955889",
     "exception": false,
     "start_time": "2022-02-24T21:23:27.830893",
     "status": "completed"
    },
    "tags": []
   },
   "outputs": [
    {
     "data": {
      "text/html": [
       "<div>\n",
       "<style scoped>\n",
       "    .dataframe tbody tr th:only-of-type {\n",
       "        vertical-align: middle;\n",
       "    }\n",
       "\n",
       "    .dataframe tbody tr th {\n",
       "        vertical-align: top;\n",
       "    }\n",
       "\n",
       "    .dataframe thead th {\n",
       "        text-align: right;\n",
       "    }\n",
       "</style>\n",
       "<table border=\"1\" class=\"dataframe\">\n",
       "  <thead>\n",
       "    <tr style=\"text-align: right;\">\n",
       "      <th></th>\n",
       "      <th>Age_Range</th>\n",
       "      <th>Survived</th>\n",
       "    </tr>\n",
       "  </thead>\n",
       "  <tbody>\n",
       "    <tr>\n",
       "      <th>0</th>\n",
       "      <td>(0.419, 19.0]</td>\n",
       "      <td>0.481707</td>\n",
       "    </tr>\n",
       "    <tr>\n",
       "      <th>1</th>\n",
       "      <td>(19.0, 25.0]</td>\n",
       "      <td>0.328467</td>\n",
       "    </tr>\n",
       "    <tr>\n",
       "      <th>2</th>\n",
       "      <td>(25.0, 31.0]</td>\n",
       "      <td>0.393701</td>\n",
       "    </tr>\n",
       "    <tr>\n",
       "      <th>3</th>\n",
       "      <td>(31.0, 41.0]</td>\n",
       "      <td>0.433566</td>\n",
       "    </tr>\n",
       "    <tr>\n",
       "      <th>4</th>\n",
       "      <td>(41.0, 80.0]</td>\n",
       "      <td>0.368794</td>\n",
       "    </tr>\n",
       "  </tbody>\n",
       "</table>\n",
       "</div>"
      ],
      "text/plain": [
       "       Age_Range  Survived\n",
       "0  (0.419, 19.0]  0.481707\n",
       "1   (19.0, 25.0]  0.328467\n",
       "2   (25.0, 31.0]  0.393701\n",
       "3   (31.0, 41.0]  0.433566\n",
       "4   (41.0, 80.0]  0.368794"
      ]
     },
     "execution_count": 36,
     "metadata": {},
     "output_type": "execute_result"
    }
   ],
   "source": [
    "train_data['Age_Range'] = pd.qcut(train_data['Age_imputed'], 5)\n",
    "train_data[['Age_Range', 'Survived']].groupby(['Age_Range'], as_index=False).mean().sort_values(by='Age_Range', ascending=True)"
   ]
  },
  {
   "cell_type": "code",
   "execution_count": 37,
   "id": "71095b3c",
   "metadata": {
    "execution": {
     "iopub.execute_input": "2022-02-24T21:23:28.155911Z",
     "iopub.status.busy": "2022-02-24T21:23:28.155217Z",
     "iopub.status.idle": "2022-02-24T21:23:28.617144Z",
     "shell.execute_reply": "2022-02-24T21:23:28.617654Z",
     "shell.execute_reply.started": "2022-02-24T21:15:34.694160Z"
    },
    "papermill": {
     "duration": 0.563072,
     "end_time": "2022-02-24T21:23:28.617872",
     "exception": false,
     "start_time": "2022-02-24T21:23:28.054800",
     "status": "completed"
    },
    "tags": []
   },
   "outputs": [
    {
     "data": {
      "text/plain": [
       "Text(0, 0.5, 'Survival rate')"
      ]
     },
     "execution_count": 37,
     "metadata": {},
     "output_type": "execute_result"
    },
    {
     "data": {
      "image/png": "[encoded data removed]",
      "text/plain": [
       "<Figure size 864x432 with 1 Axes>"
      ]
     },
     "metadata": {},
     "output_type": "display_data"
    }
   ],
   "source": [
    "p = sns.barplot(x='Age_Range', y = 'Survived', data=train_data)\n",
    "p.axhline(survival_rate)\n",
    "\n",
    "# Add legend\n",
    "p.set_xlabel(\"Age ranges\", fontsize = 20)\n",
    "p.set_ylabel(\"Survival rate\", fontsize = 20)"
   ]
  },
  {
   "cell_type": "code",
   "execution_count": 38,
   "id": "d1a6f727",
   "metadata": {
    "execution": {
     "iopub.execute_input": "2022-02-24T21:23:28.817625Z",
     "iopub.status.busy": "2022-02-24T21:23:28.816963Z",
     "iopub.status.idle": "2022-02-24T21:23:28.845298Z",
     "shell.execute_reply": "2022-02-24T21:23:28.844504Z",
     "shell.execute_reply.started": "2022-02-24T21:15:35.149909Z"
    },
    "papermill": {
     "duration": 0.129568,
     "end_time": "2022-02-24T21:23:28.845478",
     "exception": false,
     "start_time": "2022-02-24T21:23:28.715910",
     "status": "completed"
    },
    "tags": []
   },
   "outputs": [
    {
     "data": {
      "text/html": [
       "<div>\n",
       "<style scoped>\n",
       "    .dataframe tbody tr th:only-of-type {\n",
       "        vertical-align: middle;\n",
       "    }\n",
       "\n",
       "    .dataframe tbody tr th {\n",
       "        vertical-align: top;\n",
       "    }\n",
       "\n",
       "    .dataframe thead th {\n",
       "        text-align: right;\n",
       "    }\n",
       "</style>\n",
       "<table border=\"1\" class=\"dataframe\">\n",
       "  <thead>\n",
       "    <tr style=\"text-align: right;\">\n",
       "      <th></th>\n",
       "      <th>Survived</th>\n",
       "      <th>Pclass</th>\n",
       "      <th>Sex</th>\n",
       "      <th>SibSp</th>\n",
       "      <th>Parch</th>\n",
       "      <th>Fare</th>\n",
       "      <th>Embarked</th>\n",
       "      <th>Age_imputed</th>\n",
       "    </tr>\n",
       "  </thead>\n",
       "  <tbody>\n",
       "    <tr>\n",
       "      <th>0</th>\n",
       "      <td>0</td>\n",
       "      <td>3</td>\n",
       "      <td>male</td>\n",
       "      <td>1</td>\n",
       "      <td>0</td>\n",
       "      <td>7.2500</td>\n",
       "      <td>S</td>\n",
       "      <td>1</td>\n",
       "    </tr>\n",
       "    <tr>\n",
       "      <th>1</th>\n",
       "      <td>1</td>\n",
       "      <td>1</td>\n",
       "      <td>female</td>\n",
       "      <td>1</td>\n",
       "      <td>0</td>\n",
       "      <td>71.2833</td>\n",
       "      <td>C</td>\n",
       "      <td>3</td>\n",
       "    </tr>\n",
       "    <tr>\n",
       "      <th>2</th>\n",
       "      <td>1</td>\n",
       "      <td>3</td>\n",
       "      <td>female</td>\n",
       "      <td>0</td>\n",
       "      <td>0</td>\n",
       "      <td>7.9250</td>\n",
       "      <td>S</td>\n",
       "      <td>2</td>\n",
       "    </tr>\n",
       "    <tr>\n",
       "      <th>3</th>\n",
       "      <td>1</td>\n",
       "      <td>1</td>\n",
       "      <td>female</td>\n",
       "      <td>1</td>\n",
       "      <td>0</td>\n",
       "      <td>53.1000</td>\n",
       "      <td>S</td>\n",
       "      <td>3</td>\n",
       "    </tr>\n",
       "    <tr>\n",
       "      <th>4</th>\n",
       "      <td>0</td>\n",
       "      <td>3</td>\n",
       "      <td>male</td>\n",
       "      <td>0</td>\n",
       "      <td>0</td>\n",
       "      <td>8.0500</td>\n",
       "      <td>S</td>\n",
       "      <td>3</td>\n",
       "    </tr>\n",
       "  </tbody>\n",
       "</table>\n",
       "</div>"
      ],
      "text/plain": [
       "   Survived  Pclass     Sex  SibSp  Parch     Fare Embarked  Age_imputed\n",
       "0         0       3    male      1      0   7.2500        S            1\n",
       "1         1       1  female      1      0  71.2833        C            3\n",
       "2         1       3  female      0      0   7.9250        S            2\n",
       "3         1       1  female      1      0  53.1000        S            3\n",
       "4         0       3    male      0      0   8.0500        S            3"
      ]
     },
     "execution_count": 38,
     "metadata": {},
     "output_type": "execute_result"
    }
   ],
   "source": [
    "for dataset in joined_data:\n",
    "    dataset.loc[ dataset['Age_imputed'] <= 19, 'Age_imputed'] = 0\n",
    "    dataset.loc[(dataset['Age_imputed'] > 19) & (dataset['Age_imputed'] <= 25), 'Age_imputed'] = 1\n",
    "    dataset.loc[(dataset['Age_imputed'] > 25) & (dataset['Age_imputed'] <= 31), 'Age_imputed'] = 2\n",
    "    dataset.loc[(dataset['Age_imputed'] > 31) & (dataset['Age_imputed'] <= 41), 'Age_imputed'] = 3\n",
    "    dataset.loc[ dataset['Age_imputed'] > 41, 'Age_imputed'] = 4\n",
    "    #dataset['Fare'] = dataset['Fare'].astype(int)\n",
    "\n",
    "train_data['Age_imputed'] = train_data['Age_imputed'].astype(int)\n",
    "test_data['Age_imputed'] = test_data['Age_imputed'].astype(int)\n",
    "\n",
    "train_data = train_data.drop(['Age_Range'], axis=1)\n",
    "joined_data = [train_data, test_data]\n",
    "train_data.head()"
   ]
  },
  {
   "cell_type": "markdown",
   "id": "24f9a061",
   "metadata": {
    "papermill": {
     "duration": 0.101094,
     "end_time": "2022-02-24T21:23:29.051869",
     "exception": false,
     "start_time": "2022-02-24T21:23:28.950775",
     "status": "completed"
    },
    "tags": []
   },
   "source": [
    "### 1.5.4 Sex - Convertion to numerical values\n",
    "Now we can replace the Sex value with a numerical values where 0 = female and 1 = male."
   ]
  },
  {
   "cell_type": "code",
   "execution_count": 39,
   "id": "4dcd7d34",
   "metadata": {
    "execution": {
     "iopub.execute_input": "2022-02-24T21:23:29.255062Z",
     "iopub.status.busy": "2022-02-24T21:23:29.254348Z",
     "iopub.status.idle": "2022-02-24T21:23:29.266500Z",
     "shell.execute_reply": "2022-02-24T21:23:29.267008Z",
     "shell.execute_reply.started": "2022-02-24T21:15:35.187662Z"
    },
    "papermill": {
     "duration": 0.117115,
     "end_time": "2022-02-24T21:23:29.267247",
     "exception": false,
     "start_time": "2022-02-24T21:23:29.150132",
     "status": "completed"
    },
    "tags": []
   },
   "outputs": [
    {
     "data": {
      "text/html": [
       "<div>\n",
       "<style scoped>\n",
       "    .dataframe tbody tr th:only-of-type {\n",
       "        vertical-align: middle;\n",
       "    }\n",
       "\n",
       "    .dataframe tbody tr th {\n",
       "        vertical-align: top;\n",
       "    }\n",
       "\n",
       "    .dataframe thead th {\n",
       "        text-align: right;\n",
       "    }\n",
       "</style>\n",
       "<table border=\"1\" class=\"dataframe\">\n",
       "  <thead>\n",
       "    <tr style=\"text-align: right;\">\n",
       "      <th></th>\n",
       "      <th>Survived</th>\n",
       "      <th>Pclass</th>\n",
       "      <th>Sex</th>\n",
       "      <th>SibSp</th>\n",
       "      <th>Parch</th>\n",
       "      <th>Fare</th>\n",
       "      <th>Embarked</th>\n",
       "      <th>Age_imputed</th>\n",
       "    </tr>\n",
       "  </thead>\n",
       "  <tbody>\n",
       "    <tr>\n",
       "      <th>0</th>\n",
       "      <td>0</td>\n",
       "      <td>3</td>\n",
       "      <td>1</td>\n",
       "      <td>1</td>\n",
       "      <td>0</td>\n",
       "      <td>7.2500</td>\n",
       "      <td>S</td>\n",
       "      <td>1</td>\n",
       "    </tr>\n",
       "    <tr>\n",
       "      <th>1</th>\n",
       "      <td>1</td>\n",
       "      <td>1</td>\n",
       "      <td>0</td>\n",
       "      <td>1</td>\n",
       "      <td>0</td>\n",
       "      <td>71.2833</td>\n",
       "      <td>C</td>\n",
       "      <td>3</td>\n",
       "    </tr>\n",
       "    <tr>\n",
       "      <th>2</th>\n",
       "      <td>1</td>\n",
       "      <td>3</td>\n",
       "      <td>0</td>\n",
       "      <td>0</td>\n",
       "      <td>0</td>\n",
       "      <td>7.9250</td>\n",
       "      <td>S</td>\n",
       "      <td>2</td>\n",
       "    </tr>\n",
       "    <tr>\n",
       "      <th>3</th>\n",
       "      <td>1</td>\n",
       "      <td>1</td>\n",
       "      <td>0</td>\n",
       "      <td>1</td>\n",
       "      <td>0</td>\n",
       "      <td>53.1000</td>\n",
       "      <td>S</td>\n",
       "      <td>3</td>\n",
       "    </tr>\n",
       "    <tr>\n",
       "      <th>4</th>\n",
       "      <td>0</td>\n",
       "      <td>3</td>\n",
       "      <td>1</td>\n",
       "      <td>0</td>\n",
       "      <td>0</td>\n",
       "      <td>8.0500</td>\n",
       "      <td>S</td>\n",
       "      <td>3</td>\n",
       "    </tr>\n",
       "  </tbody>\n",
       "</table>\n",
       "</div>"
      ],
      "text/plain": [
       "   Survived  Pclass  Sex  SibSp  Parch     Fare Embarked  Age_imputed\n",
       "0         0       3    1      1      0   7.2500        S            1\n",
       "1         1       1    0      1      0  71.2833        C            3\n",
       "2         1       3    0      0      0   7.9250        S            2\n",
       "3         1       1    0      1      0  53.1000        S            3\n",
       "4         0       3    1      0      0   8.0500        S            3"
      ]
     },
     "execution_count": 39,
     "metadata": {},
     "output_type": "execute_result"
    }
   ],
   "source": [
    "for dataset in joined_data:\n",
    "    dataset['Sex'] = dataset['Sex'].map({'female': 0, 'male':1}).astype(int)\n",
    "\n",
    "\n",
    "train_data.head()"
   ]
  },
  {
   "cell_type": "markdown",
   "id": "9e6decf6",
   "metadata": {
    "papermill": {
     "duration": 0.098131,
     "end_time": "2022-02-24T21:23:29.465210",
     "exception": false,
     "start_time": "2022-02-24T21:23:29.367079",
     "status": "completed"
    },
    "tags": []
   },
   "source": [
    "### 1.5.5. Fare\n",
    "The test_data is missing a value in teh  Fare feature. Let's replace it by the median to be less sensitive to the outliers."
   ]
  },
  {
   "cell_type": "code",
   "execution_count": 40,
   "id": "60c74cbc",
   "metadata": {
    "execution": {
     "iopub.execute_input": "2022-02-24T21:23:29.666700Z",
     "iopub.status.busy": "2022-02-24T21:23:29.666006Z",
     "iopub.status.idle": "2022-02-24T21:23:29.671154Z",
     "shell.execute_reply": "2022-02-24T21:23:29.671728Z",
     "shell.execute_reply.started": "2022-02-24T21:15:35.210035Z"
    },
    "papermill": {
     "duration": 0.107171,
     "end_time": "2022-02-24T21:23:29.671929",
     "exception": false,
     "start_time": "2022-02-24T21:23:29.564758",
     "status": "completed"
    },
    "tags": []
   },
   "outputs": [],
   "source": [
    "test_data.Fare.replace(np.nan, test_data.Fare.median(), inplace=True)"
   ]
  },
  {
   "cell_type": "code",
   "execution_count": 41,
   "id": "a462d07b",
   "metadata": {
    "execution": {
     "iopub.execute_input": "2022-02-24T21:23:29.874390Z",
     "iopub.status.busy": "2022-02-24T21:23:29.873576Z",
     "iopub.status.idle": "2022-02-24T21:23:29.893618Z",
     "shell.execute_reply": "2022-02-24T21:23:29.892995Z",
     "shell.execute_reply.started": "2022-02-24T21:15:35.218855Z"
    },
    "papermill": {
     "duration": 0.123603,
     "end_time": "2022-02-24T21:23:29.893814",
     "exception": false,
     "start_time": "2022-02-24T21:23:29.770211",
     "status": "completed"
    },
    "tags": []
   },
   "outputs": [
    {
     "data": {
      "text/html": [
       "<div>\n",
       "<style scoped>\n",
       "    .dataframe tbody tr th:only-of-type {\n",
       "        vertical-align: middle;\n",
       "    }\n",
       "\n",
       "    .dataframe tbody tr th {\n",
       "        vertical-align: top;\n",
       "    }\n",
       "\n",
       "    .dataframe thead th {\n",
       "        text-align: right;\n",
       "    }\n",
       "</style>\n",
       "<table border=\"1\" class=\"dataframe\">\n",
       "  <thead>\n",
       "    <tr style=\"text-align: right;\">\n",
       "      <th></th>\n",
       "      <th>FareBand</th>\n",
       "      <th>Survived</th>\n",
       "    </tr>\n",
       "  </thead>\n",
       "  <tbody>\n",
       "    <tr>\n",
       "      <th>0</th>\n",
       "      <td>(-0.001, 8.05]</td>\n",
       "      <td>0.204188</td>\n",
       "    </tr>\n",
       "    <tr>\n",
       "      <th>1</th>\n",
       "      <td>(8.05, 15.646]</td>\n",
       "      <td>0.321212</td>\n",
       "    </tr>\n",
       "    <tr>\n",
       "      <th>2</th>\n",
       "      <td>(15.646, 33.0]</td>\n",
       "      <td>0.486034</td>\n",
       "    </tr>\n",
       "    <tr>\n",
       "      <th>3</th>\n",
       "      <td>(33.0, 512.329]</td>\n",
       "      <td>0.615819</td>\n",
       "    </tr>\n",
       "  </tbody>\n",
       "</table>\n",
       "</div>"
      ],
      "text/plain": [
       "          FareBand  Survived\n",
       "0   (-0.001, 8.05]  0.204188\n",
       "1   (8.05, 15.646]  0.321212\n",
       "2   (15.646, 33.0]  0.486034\n",
       "3  (33.0, 512.329]  0.615819"
      ]
     },
     "execution_count": 41,
     "metadata": {},
     "output_type": "execute_result"
    }
   ],
   "source": [
    "train_data['FareBand'] = pd.qcut(train_data['Fare'], 4)\n",
    "train_data[['FareBand', 'Survived']].groupby(['FareBand'], as_index=False).mean().sort_values(by='FareBand', ascending=True)"
   ]
  },
  {
   "cell_type": "code",
   "execution_count": 42,
   "id": "a48d4de0",
   "metadata": {
    "execution": {
     "iopub.execute_input": "2022-02-24T21:23:30.102502Z",
     "iopub.status.busy": "2022-02-24T21:23:30.101642Z",
     "iopub.status.idle": "2022-02-24T21:23:30.119244Z",
     "shell.execute_reply": "2022-02-24T21:23:30.119865Z",
     "shell.execute_reply.started": "2022-02-24T21:15:35.250927Z"
    },
    "papermill": {
     "duration": 0.127239,
     "end_time": "2022-02-24T21:23:30.120062",
     "exception": false,
     "start_time": "2022-02-24T21:23:29.992823",
     "status": "completed"
    },
    "tags": []
   },
   "outputs": [
    {
     "data": {
      "text/html": [
       "<div>\n",
       "<style scoped>\n",
       "    .dataframe tbody tr th:only-of-type {\n",
       "        vertical-align: middle;\n",
       "    }\n",
       "\n",
       "    .dataframe tbody tr th {\n",
       "        vertical-align: top;\n",
       "    }\n",
       "\n",
       "    .dataframe thead th {\n",
       "        text-align: right;\n",
       "    }\n",
       "</style>\n",
       "<table border=\"1\" class=\"dataframe\">\n",
       "  <thead>\n",
       "    <tr style=\"text-align: right;\">\n",
       "      <th></th>\n",
       "      <th>Survived</th>\n",
       "      <th>Pclass</th>\n",
       "      <th>Sex</th>\n",
       "      <th>SibSp</th>\n",
       "      <th>Parch</th>\n",
       "      <th>Fare</th>\n",
       "      <th>Embarked</th>\n",
       "      <th>Age_imputed</th>\n",
       "    </tr>\n",
       "  </thead>\n",
       "  <tbody>\n",
       "    <tr>\n",
       "      <th>0</th>\n",
       "      <td>0</td>\n",
       "      <td>3</td>\n",
       "      <td>1</td>\n",
       "      <td>1</td>\n",
       "      <td>0</td>\n",
       "      <td>0</td>\n",
       "      <td>S</td>\n",
       "      <td>1</td>\n",
       "    </tr>\n",
       "    <tr>\n",
       "      <th>1</th>\n",
       "      <td>1</td>\n",
       "      <td>1</td>\n",
       "      <td>0</td>\n",
       "      <td>1</td>\n",
       "      <td>0</td>\n",
       "      <td>3</td>\n",
       "      <td>C</td>\n",
       "      <td>3</td>\n",
       "    </tr>\n",
       "    <tr>\n",
       "      <th>2</th>\n",
       "      <td>1</td>\n",
       "      <td>3</td>\n",
       "      <td>0</td>\n",
       "      <td>0</td>\n",
       "      <td>0</td>\n",
       "      <td>0</td>\n",
       "      <td>S</td>\n",
       "      <td>2</td>\n",
       "    </tr>\n",
       "    <tr>\n",
       "      <th>3</th>\n",
       "      <td>1</td>\n",
       "      <td>1</td>\n",
       "      <td>0</td>\n",
       "      <td>1</td>\n",
       "      <td>0</td>\n",
       "      <td>3</td>\n",
       "      <td>S</td>\n",
       "      <td>3</td>\n",
       "    </tr>\n",
       "    <tr>\n",
       "      <th>4</th>\n",
       "      <td>0</td>\n",
       "      <td>3</td>\n",
       "      <td>1</td>\n",
       "      <td>0</td>\n",
       "      <td>0</td>\n",
       "      <td>0</td>\n",
       "      <td>S</td>\n",
       "      <td>3</td>\n",
       "    </tr>\n",
       "  </tbody>\n",
       "</table>\n",
       "</div>"
      ],
      "text/plain": [
       "   Survived  Pclass  Sex  SibSp  Parch  Fare Embarked  Age_imputed\n",
       "0         0       3    1      1      0     0        S            1\n",
       "1         1       1    0      1      0     3        C            3\n",
       "2         1       3    0      0      0     0        S            2\n",
       "3         1       1    0      1      0     3        S            3\n",
       "4         0       3    1      0      0     0        S            3"
      ]
     },
     "execution_count": 42,
     "metadata": {},
     "output_type": "execute_result"
    }
   ],
   "source": [
    "for dataset in joined_data:\n",
    "    dataset.loc[ dataset['Fare'] <= 8.05, 'Fare'] = 0\n",
    "    dataset.loc[(dataset['Fare'] > 8.05) & (dataset['Fare'] <= 15.646), 'Fare'] = 1\n",
    "    dataset.loc[(dataset['Fare'] > 15.646) & (dataset['Fare'] <= 33), 'Fare'] = 2\n",
    "    dataset.loc[ dataset['Fare'] > 33, 'Fare'] = 3\n",
    "    #dataset['Fare'] = dataset['Fare'].astype(int)\n",
    "\n",
    "train_data['Fare'] = train_data['Fare'].astype(int)\n",
    "test_data['Fare'] = test_data['Fare'].astype(int)\n",
    "\n",
    "train_data = train_data.drop(['FareBand'], axis=1)\n",
    "joined_data = [train_data, test_data]\n",
    "train_data.head()"
   ]
  },
  {
   "cell_type": "markdown",
   "id": "ca468311",
   "metadata": {
    "papermill": {
     "duration": 0.099646,
     "end_time": "2022-02-24T21:23:30.320394",
     "exception": false,
     "start_time": "2022-02-24T21:23:30.220748",
     "status": "completed"
    },
    "tags": []
   },
   "source": [
    "### 1.5.6. Embarked\n",
    "Let's just replace the missing embarked feature by the most recurrent category. Only 2 values are missing in the train_data (and not in the test_data)."
   ]
  },
  {
   "cell_type": "code",
   "execution_count": 43,
   "id": "38681e25",
   "metadata": {
    "execution": {
     "iopub.execute_input": "2022-02-24T21:23:30.527753Z",
     "iopub.status.busy": "2022-02-24T21:23:30.526035Z",
     "iopub.status.idle": "2022-02-24T21:23:30.534830Z",
     "shell.execute_reply": "2022-02-24T21:23:30.535341Z",
     "shell.execute_reply.started": "2022-02-24T21:15:35.277680Z"
    },
    "papermill": {
     "duration": 0.114396,
     "end_time": "2022-02-24T21:23:30.535540",
     "exception": false,
     "start_time": "2022-02-24T21:23:30.421144",
     "status": "completed"
    },
    "tags": []
   },
   "outputs": [
    {
     "data": {
      "text/html": [
       "<div>\n",
       "<style scoped>\n",
       "    .dataframe tbody tr th:only-of-type {\n",
       "        vertical-align: middle;\n",
       "    }\n",
       "\n",
       "    .dataframe tbody tr th {\n",
       "        vertical-align: top;\n",
       "    }\n",
       "\n",
       "    .dataframe thead th {\n",
       "        text-align: right;\n",
       "    }\n",
       "</style>\n",
       "<table border=\"1\" class=\"dataframe\">\n",
       "  <thead>\n",
       "    <tr style=\"text-align: right;\">\n",
       "      <th></th>\n",
       "      <th>Survived</th>\n",
       "      <th>Pclass</th>\n",
       "      <th>Sex</th>\n",
       "      <th>SibSp</th>\n",
       "      <th>Parch</th>\n",
       "      <th>Fare</th>\n",
       "      <th>Embarked</th>\n",
       "      <th>Age_imputed</th>\n",
       "    </tr>\n",
       "  </thead>\n",
       "  <tbody>\n",
       "    <tr>\n",
       "      <th>0</th>\n",
       "      <td>0</td>\n",
       "      <td>3</td>\n",
       "      <td>1</td>\n",
       "      <td>1</td>\n",
       "      <td>0</td>\n",
       "      <td>0</td>\n",
       "      <td>S</td>\n",
       "      <td>1</td>\n",
       "    </tr>\n",
       "    <tr>\n",
       "      <th>1</th>\n",
       "      <td>1</td>\n",
       "      <td>1</td>\n",
       "      <td>0</td>\n",
       "      <td>1</td>\n",
       "      <td>0</td>\n",
       "      <td>3</td>\n",
       "      <td>C</td>\n",
       "      <td>3</td>\n",
       "    </tr>\n",
       "    <tr>\n",
       "      <th>2</th>\n",
       "      <td>1</td>\n",
       "      <td>3</td>\n",
       "      <td>0</td>\n",
       "      <td>0</td>\n",
       "      <td>0</td>\n",
       "      <td>0</td>\n",
       "      <td>S</td>\n",
       "      <td>2</td>\n",
       "    </tr>\n",
       "    <tr>\n",
       "      <th>3</th>\n",
       "      <td>1</td>\n",
       "      <td>1</td>\n",
       "      <td>0</td>\n",
       "      <td>1</td>\n",
       "      <td>0</td>\n",
       "      <td>3</td>\n",
       "      <td>S</td>\n",
       "      <td>3</td>\n",
       "    </tr>\n",
       "    <tr>\n",
       "      <th>4</th>\n",
       "      <td>0</td>\n",
       "      <td>3</td>\n",
       "      <td>1</td>\n",
       "      <td>0</td>\n",
       "      <td>0</td>\n",
       "      <td>0</td>\n",
       "      <td>S</td>\n",
       "      <td>3</td>\n",
       "    </tr>\n",
       "  </tbody>\n",
       "</table>\n",
       "</div>"
      ],
      "text/plain": [
       "   Survived  Pclass  Sex  SibSp  Parch  Fare Embarked  Age_imputed\n",
       "0         0       3    1      1      0     0        S            1\n",
       "1         1       1    0      1      0     3        C            3\n",
       "2         1       3    0      0      0     0        S            2\n",
       "3         1       1    0      1      0     3        S            3\n",
       "4         0       3    1      0      0     0        S            3"
      ]
     },
     "execution_count": 43,
     "metadata": {},
     "output_type": "execute_result"
    }
   ],
   "source": [
    "train_data.head()"
   ]
  },
  {
   "cell_type": "code",
   "execution_count": 44,
   "id": "fb328661",
   "metadata": {
    "execution": {
     "iopub.execute_input": "2022-02-24T21:23:30.739042Z",
     "iopub.status.busy": "2022-02-24T21:23:30.738377Z",
     "iopub.status.idle": "2022-02-24T21:23:30.743975Z",
     "shell.execute_reply": "2022-02-24T21:23:30.744486Z",
     "shell.execute_reply.started": "2022-02-24T21:15:35.291087Z"
    },
    "papermill": {
     "duration": 0.108922,
     "end_time": "2022-02-24T21:23:30.744699",
     "exception": false,
     "start_time": "2022-02-24T21:23:30.635777",
     "status": "completed"
    },
    "tags": []
   },
   "outputs": [],
   "source": [
    "train_data.Embarked.replace(np.nan, train_data.Embarked.mode()[0], inplace=True)"
   ]
  },
  {
   "cell_type": "markdown",
   "id": "4db3adda",
   "metadata": {
    "papermill": {
     "duration": 0.098894,
     "end_time": "2022-02-24T21:23:30.942424",
     "exception": false,
     "start_time": "2022-02-24T21:23:30.843530",
     "status": "completed"
    },
    "tags": []
   },
   "source": [
    "Like we did for the Sex feature let's convert the Embarked feature to numerical values where S=0, C=1 and Q=2."
   ]
  },
  {
   "cell_type": "code",
   "execution_count": 45,
   "id": "7cdbbe28",
   "metadata": {
    "execution": {
     "iopub.execute_input": "2022-02-24T21:23:31.158223Z",
     "iopub.status.busy": "2022-02-24T21:23:31.157462Z",
     "iopub.status.idle": "2022-02-24T21:23:31.171778Z",
     "shell.execute_reply": "2022-02-24T21:23:31.172427Z",
     "shell.execute_reply.started": "2022-02-24T21:15:35.305051Z"
    },
    "papermill": {
     "duration": 0.123594,
     "end_time": "2022-02-24T21:23:31.172632",
     "exception": false,
     "start_time": "2022-02-24T21:23:31.049038",
     "status": "completed"
    },
    "tags": []
   },
   "outputs": [
    {
     "data": {
      "text/html": [
       "<div>\n",
       "<style scoped>\n",
       "    .dataframe tbody tr th:only-of-type {\n",
       "        vertical-align: middle;\n",
       "    }\n",
       "\n",
       "    .dataframe tbody tr th {\n",
       "        vertical-align: top;\n",
       "    }\n",
       "\n",
       "    .dataframe thead th {\n",
       "        text-align: right;\n",
       "    }\n",
       "</style>\n",
       "<table border=\"1\" class=\"dataframe\">\n",
       "  <thead>\n",
       "    <tr style=\"text-align: right;\">\n",
       "      <th></th>\n",
       "      <th>Survived</th>\n",
       "      <th>Pclass</th>\n",
       "      <th>Sex</th>\n",
       "      <th>SibSp</th>\n",
       "      <th>Parch</th>\n",
       "      <th>Fare</th>\n",
       "      <th>Embarked</th>\n",
       "      <th>Age_imputed</th>\n",
       "    </tr>\n",
       "  </thead>\n",
       "  <tbody>\n",
       "    <tr>\n",
       "      <th>0</th>\n",
       "      <td>0</td>\n",
       "      <td>3</td>\n",
       "      <td>1</td>\n",
       "      <td>1</td>\n",
       "      <td>0</td>\n",
       "      <td>0</td>\n",
       "      <td>0</td>\n",
       "      <td>1</td>\n",
       "    </tr>\n",
       "    <tr>\n",
       "      <th>1</th>\n",
       "      <td>1</td>\n",
       "      <td>1</td>\n",
       "      <td>0</td>\n",
       "      <td>1</td>\n",
       "      <td>0</td>\n",
       "      <td>3</td>\n",
       "      <td>1</td>\n",
       "      <td>3</td>\n",
       "    </tr>\n",
       "    <tr>\n",
       "      <th>2</th>\n",
       "      <td>1</td>\n",
       "      <td>3</td>\n",
       "      <td>0</td>\n",
       "      <td>0</td>\n",
       "      <td>0</td>\n",
       "      <td>0</td>\n",
       "      <td>0</td>\n",
       "      <td>2</td>\n",
       "    </tr>\n",
       "    <tr>\n",
       "      <th>3</th>\n",
       "      <td>1</td>\n",
       "      <td>1</td>\n",
       "      <td>0</td>\n",
       "      <td>1</td>\n",
       "      <td>0</td>\n",
       "      <td>3</td>\n",
       "      <td>0</td>\n",
       "      <td>3</td>\n",
       "    </tr>\n",
       "    <tr>\n",
       "      <th>4</th>\n",
       "      <td>0</td>\n",
       "      <td>3</td>\n",
       "      <td>1</td>\n",
       "      <td>0</td>\n",
       "      <td>0</td>\n",
       "      <td>0</td>\n",
       "      <td>0</td>\n",
       "      <td>3</td>\n",
       "    </tr>\n",
       "  </tbody>\n",
       "</table>\n",
       "</div>"
      ],
      "text/plain": [
       "   Survived  Pclass  Sex  SibSp  Parch  Fare  Embarked  Age_imputed\n",
       "0         0       3    1      1      0     0         0            1\n",
       "1         1       1    0      1      0     3         1            3\n",
       "2         1       3    0      0      0     0         0            2\n",
       "3         1       1    0      1      0     3         0            3\n",
       "4         0       3    1      0      0     0         0            3"
      ]
     },
     "execution_count": 45,
     "metadata": {},
     "output_type": "execute_result"
    }
   ],
   "source": [
    "for dataset in joined_data:\n",
    "    dataset['Embarked'] = dataset['Embarked'].map({'S':0, 'C':1, 'Q':2}).astype(int)\n",
    "    \n",
    "train_data.head()"
   ]
  },
  {
   "cell_type": "markdown",
   "id": "8789e42e",
   "metadata": {
    "papermill": {
     "duration": 0.098643,
     "end_time": "2022-02-24T21:23:31.370142",
     "exception": false,
     "start_time": "2022-02-24T21:23:31.271499",
     "status": "completed"
    },
    "tags": []
   },
   "source": [
    "# **2. Models**\n",
    "## 2.1. Based on Patterns\n",
    "Let's assmue the following:\n",
    "1. All women with \"Ptclass <= 2\" survived\n",
    "3. 50% of the remaning women died (randomly)\n",
    "4. 50% men with \"Ptclass = 1\" and \"SibSp >= 1\" survives (randomly)\n",
    "5. 15% of remaning men died (randomly)"
   ]
  },
  {
   "cell_type": "code",
   "execution_count": 46,
   "id": "f88dbdcf",
   "metadata": {
    "execution": {
     "iopub.execute_input": "2022-02-24T21:23:31.576683Z",
     "iopub.status.busy": "2022-02-24T21:23:31.575965Z",
     "iopub.status.idle": "2022-02-24T21:23:31.577282Z",
     "shell.execute_reply": "2022-02-24T21:23:31.577901Z",
     "shell.execute_reply.started": "2022-02-24T21:15:35.327815Z"
    },
    "papermill": {
     "duration": 0.107747,
     "end_time": "2022-02-24T21:23:31.578097",
     "exception": false,
     "start_time": "2022-02-24T21:23:31.470350",
     "status": "completed"
    },
    "tags": []
   },
   "outputs": [],
   "source": [
    "# rate the survival rate\n",
    "import random\n",
    "def random_survive(rate):\n",
    "    if random.random() >= (1 - rate):\n",
    "        return 1\n",
    "    else:\n",
    "        return 0"
   ]
  },
  {
   "cell_type": "code",
   "execution_count": 47,
   "id": "67915b77",
   "metadata": {
    "execution": {
     "iopub.execute_input": "2022-02-24T21:23:31.785363Z",
     "iopub.status.busy": "2022-02-24T21:23:31.784617Z",
     "iopub.status.idle": "2022-02-24T21:23:31.805323Z",
     "shell.execute_reply": "2022-02-24T21:23:31.805846Z",
     "shell.execute_reply.started": "2022-02-24T21:15:35.341170Z"
    },
    "papermill": {
     "duration": 0.124444,
     "end_time": "2022-02-24T21:23:31.806047",
     "exception": false,
     "start_time": "2022-02-24T21:23:31.681603",
     "status": "completed"
    },
    "tags": []
   },
   "outputs": [
    {
     "data": {
      "text/html": [
       "<div>\n",
       "<style scoped>\n",
       "    .dataframe tbody tr th:only-of-type {\n",
       "        vertical-align: middle;\n",
       "    }\n",
       "\n",
       "    .dataframe tbody tr th {\n",
       "        vertical-align: top;\n",
       "    }\n",
       "\n",
       "    .dataframe thead th {\n",
       "        text-align: right;\n",
       "    }\n",
       "</style>\n",
       "<table border=\"1\" class=\"dataframe\">\n",
       "  <thead>\n",
       "    <tr style=\"text-align: right;\">\n",
       "      <th></th>\n",
       "      <th>PassengerId</th>\n",
       "      <th>Pclass</th>\n",
       "      <th>Sex</th>\n",
       "      <th>SibSp</th>\n",
       "      <th>Parch</th>\n",
       "      <th>Fare</th>\n",
       "      <th>Embarked</th>\n",
       "      <th>Age_imputed</th>\n",
       "      <th>Survived</th>\n",
       "    </tr>\n",
       "  </thead>\n",
       "  <tbody>\n",
       "    <tr>\n",
       "      <th>0</th>\n",
       "      <td>892</td>\n",
       "      <td>3</td>\n",
       "      <td>1</td>\n",
       "      <td>0</td>\n",
       "      <td>0</td>\n",
       "      <td>0</td>\n",
       "      <td>2</td>\n",
       "      <td>3</td>\n",
       "      <td>0</td>\n",
       "    </tr>\n",
       "    <tr>\n",
       "      <th>1</th>\n",
       "      <td>893</td>\n",
       "      <td>3</td>\n",
       "      <td>0</td>\n",
       "      <td>1</td>\n",
       "      <td>0</td>\n",
       "      <td>0</td>\n",
       "      <td>0</td>\n",
       "      <td>4</td>\n",
       "      <td>1</td>\n",
       "    </tr>\n",
       "    <tr>\n",
       "      <th>2</th>\n",
       "      <td>894</td>\n",
       "      <td>2</td>\n",
       "      <td>1</td>\n",
       "      <td>0</td>\n",
       "      <td>0</td>\n",
       "      <td>1</td>\n",
       "      <td>2</td>\n",
       "      <td>4</td>\n",
       "      <td>0</td>\n",
       "    </tr>\n",
       "    <tr>\n",
       "      <th>3</th>\n",
       "      <td>895</td>\n",
       "      <td>3</td>\n",
       "      <td>1</td>\n",
       "      <td>0</td>\n",
       "      <td>0</td>\n",
       "      <td>1</td>\n",
       "      <td>0</td>\n",
       "      <td>2</td>\n",
       "      <td>0</td>\n",
       "    </tr>\n",
       "    <tr>\n",
       "      <th>4</th>\n",
       "      <td>896</td>\n",
       "      <td>3</td>\n",
       "      <td>0</td>\n",
       "      <td>1</td>\n",
       "      <td>1</td>\n",
       "      <td>1</td>\n",
       "      <td>0</td>\n",
       "      <td>1</td>\n",
       "      <td>1</td>\n",
       "    </tr>\n",
       "  </tbody>\n",
       "</table>\n",
       "</div>"
      ],
      "text/plain": [
       "   PassengerId  Pclass  Sex  SibSp  Parch  Fare  Embarked  Age_imputed  \\\n",
       "0          892       3    1      0      0     0         2            3   \n",
       "1          893       3    0      1      0     0         0            4   \n",
       "2          894       2    1      0      0     1         2            4   \n",
       "3          895       3    1      0      0     1         0            2   \n",
       "4          896       3    0      1      1     1         0            1   \n",
       "\n",
       "   Survived  \n",
       "0         0  \n",
       "1         1  \n",
       "2         0  \n",
       "3         0  \n",
       "4         1  "
      ]
     },
     "execution_count": 47,
     "metadata": {},
     "output_type": "execute_result"
    }
   ],
   "source": [
    "pattern_model = test_data.copy()\n",
    "\n",
    "pattern_model[\"Survived\"] = list([0]*len(test_data.index))\n",
    "\n",
    "# 1 - All women with \"Ptclass <= 2\" survived\n",
    "pattern_model['Survived'] = np.where((pattern_model.Sex == 0) & (pattern_model.Pclass <= 2), 1, pattern_model.Survived)\n",
    "# 2 - 50% of the remaning women died (randomly)\n",
    "pattern_model['Survived'] = np.where((pattern_model.Sex == 0) & (pattern_model.Pclass > 2), random_survive(0.7), pattern_model.Survived)\n",
    "# 3 - 50% men with \"Ptclass = 1\" and \"SibSp >= 1\" survives (randomly)\n",
    "pattern_model['Survived'] = np.where((pattern_model.Sex == 1) & (pattern_model.Pclass == 1), random_survive(0.5), pattern_model.Survived)\n",
    "# 4 - 15% of remaning men died (randomly)\n",
    "pattern_model['Survived'] = np.where((pattern_model.Sex == 1) & (pattern_model.Pclass != 1), random_survive(0.15), pattern_model.Survived)\n",
    "\n",
    "pattern_model.head()"
   ]
  },
  {
   "cell_type": "code",
   "execution_count": 48,
   "id": "ce882c65",
   "metadata": {
    "execution": {
     "iopub.execute_input": "2022-02-24T21:23:32.011653Z",
     "iopub.status.busy": "2022-02-24T21:23:32.010949Z",
     "iopub.status.idle": "2022-02-24T21:23:32.013750Z",
     "shell.execute_reply": "2022-02-24T21:23:32.014303Z",
     "shell.execute_reply.started": "2022-02-24T21:15:35.371914Z"
    },
    "papermill": {
     "duration": 0.109448,
     "end_time": "2022-02-24T21:23:32.014503",
     "exception": false,
     "start_time": "2022-02-24T21:23:31.905055",
     "status": "completed"
    },
    "tags": []
   },
   "outputs": [
    {
     "data": {
      "text/plain": [
       "0.5"
      ]
     },
     "execution_count": 48,
     "metadata": {},
     "output_type": "execute_result"
    }
   ],
   "source": [
    "pattern_model.Survived.mean()"
   ]
  },
  {
   "cell_type": "markdown",
   "id": "5f2df60c",
   "metadata": {
    "papermill": {
     "duration": 0.109589,
     "end_time": "2022-02-24T21:23:32.226606",
     "exception": false,
     "start_time": "2022-02-24T21:23:32.117017",
     "status": "completed"
    },
    "tags": []
   },
   "source": [
    "## 2.2. Logistic Regression Model"
   ]
  },
  {
   "cell_type": "code",
   "execution_count": 49,
   "id": "d4e92e09",
   "metadata": {
    "execution": {
     "iopub.execute_input": "2022-02-24T21:23:32.476265Z",
     "iopub.status.busy": "2022-02-24T21:23:32.475557Z",
     "iopub.status.idle": "2022-02-24T21:23:32.482264Z",
     "shell.execute_reply": "2022-02-24T21:23:32.482815Z",
     "shell.execute_reply.started": "2022-02-24T21:15:35.385976Z"
    },
    "papermill": {
     "duration": 0.133504,
     "end_time": "2022-02-24T21:23:32.483016",
     "exception": false,
     "start_time": "2022-02-24T21:23:32.349512",
     "status": "completed"
    },
    "tags": []
   },
   "outputs": [],
   "source": [
    "X_train = train_data.drop(['Survived'], axis = 1)\n",
    "y_train = train_data.Survived\n",
    "\n",
    "X_test = test_data.drop(['PassengerId'], axis = 1)"
   ]
  },
  {
   "cell_type": "code",
   "execution_count": 50,
   "id": "3caa0e9d",
   "metadata": {
    "execution": {
     "iopub.execute_input": "2022-02-24T21:23:32.694618Z",
     "iopub.status.busy": "2022-02-24T21:23:32.691314Z",
     "iopub.status.idle": "2022-02-24T21:23:32.707190Z",
     "shell.execute_reply": "2022-02-24T21:23:32.707839Z",
     "shell.execute_reply.started": "2022-02-24T21:15:35.396657Z"
    },
    "papermill": {
     "duration": 0.122035,
     "end_time": "2022-02-24T21:23:32.708074",
     "exception": false,
     "start_time": "2022-02-24T21:23:32.586039",
     "status": "completed"
    },
    "tags": []
   },
   "outputs": [
    {
     "data": {
      "text/plain": [
       "LogisticRegression(solver='liblinear')"
      ]
     },
     "execution_count": 50,
     "metadata": {},
     "output_type": "execute_result"
    }
   ],
   "source": [
    "logmodel = LogisticRegression(solver='liblinear')\n",
    "logmodel.fit(X_train, y_train)"
   ]
  },
  {
   "cell_type": "code",
   "execution_count": 51,
   "id": "a74b71a3",
   "metadata": {
    "execution": {
     "iopub.execute_input": "2022-02-24T21:23:32.918907Z",
     "iopub.status.busy": "2022-02-24T21:23:32.918183Z",
     "iopub.status.idle": "2022-02-24T21:23:32.984813Z",
     "shell.execute_reply": "2022-02-24T21:23:32.983908Z",
     "shell.execute_reply.started": "2022-02-24T21:15:35.411964Z"
    },
    "papermill": {
     "duration": 0.176945,
     "end_time": "2022-02-24T21:23:32.985044",
     "exception": false,
     "start_time": "2022-02-24T21:23:32.808099",
     "status": "completed"
    },
    "tags": []
   },
   "outputs": [
    {
     "name": "stdout",
     "output_type": "stream",
     "text": [
      "Logistic Regression score:  0.7837636932707356\n",
      "79.63\n"
     ]
    }
   ],
   "source": [
    "logmodel_score = cross_val_score(logmodel, X_train, y_train, cv = 10, scoring = 'accuracy').mean()\n",
    "print(\"Logistic Regression score: \", logmodel_score)\n",
    "acc_log = round(logmodel.score(X_train, y_train) * 100, 2)\n",
    "print(acc_log)"
   ]
  },
  {
   "cell_type": "code",
   "execution_count": 52,
   "id": "39cd3372",
   "metadata": {
    "execution": {
     "iopub.execute_input": "2022-02-24T21:23:33.193754Z",
     "iopub.status.busy": "2022-02-24T21:23:33.192746Z",
     "iopub.status.idle": "2022-02-24T21:23:33.198720Z",
     "shell.execute_reply": "2022-02-24T21:23:33.199292Z",
     "shell.execute_reply.started": "2022-02-24T21:15:35.474844Z"
    },
    "papermill": {
     "duration": 0.111399,
     "end_time": "2022-02-24T21:23:33.199499",
     "exception": false,
     "start_time": "2022-02-24T21:23:33.088100",
     "status": "completed"
    },
    "tags": []
   },
   "outputs": [],
   "source": [
    "log_pred = logmodel.predict(X_test)"
   ]
  },
  {
   "cell_type": "code",
   "execution_count": 53,
   "id": "952e51a1",
   "metadata": {
    "execution": {
     "iopub.execute_input": "2022-02-24T21:23:33.403961Z",
     "iopub.status.busy": "2022-02-24T21:23:33.402958Z",
     "iopub.status.idle": "2022-02-24T21:23:33.416940Z",
     "shell.execute_reply": "2022-02-24T21:23:33.417464Z",
     "shell.execute_reply.started": "2022-02-24T21:15:35.483134Z"
    },
    "papermill": {
     "duration": 0.11798,
     "end_time": "2022-02-24T21:23:33.417687",
     "exception": false,
     "start_time": "2022-02-24T21:23:33.299707",
     "status": "completed"
    },
    "tags": []
   },
   "outputs": [
    {
     "data": {
      "text/html": [
       "<div>\n",
       "<style scoped>\n",
       "    .dataframe tbody tr th:only-of-type {\n",
       "        vertical-align: middle;\n",
       "    }\n",
       "\n",
       "    .dataframe tbody tr th {\n",
       "        vertical-align: top;\n",
       "    }\n",
       "\n",
       "    .dataframe thead th {\n",
       "        text-align: right;\n",
       "    }\n",
       "</style>\n",
       "<table border=\"1\" class=\"dataframe\">\n",
       "  <thead>\n",
       "    <tr style=\"text-align: right;\">\n",
       "      <th></th>\n",
       "      <th>Feature</th>\n",
       "      <th>Correlation</th>\n",
       "    </tr>\n",
       "  </thead>\n",
       "  <tbody>\n",
       "    <tr>\n",
       "      <th>4</th>\n",
       "      <td>Fare</td>\n",
       "      <td>0.384230</td>\n",
       "    </tr>\n",
       "    <tr>\n",
       "      <th>5</th>\n",
       "      <td>Embarked</td>\n",
       "      <td>0.162637</td>\n",
       "    </tr>\n",
       "    <tr>\n",
       "      <th>3</th>\n",
       "      <td>Parch</td>\n",
       "      <td>-0.117106</td>\n",
       "    </tr>\n",
       "    <tr>\n",
       "      <th>6</th>\n",
       "      <td>Age_imputed</td>\n",
       "      <td>-0.228803</td>\n",
       "    </tr>\n",
       "    <tr>\n",
       "      <th>2</th>\n",
       "      <td>SibSp</td>\n",
       "      <td>-0.373193</td>\n",
       "    </tr>\n",
       "    <tr>\n",
       "      <th>0</th>\n",
       "      <td>Pclass</td>\n",
       "      <td>-0.661535</td>\n",
       "    </tr>\n",
       "    <tr>\n",
       "      <th>1</th>\n",
       "      <td>Sex</td>\n",
       "      <td>-2.346606</td>\n",
       "    </tr>\n",
       "  </tbody>\n",
       "</table>\n",
       "</div>"
      ],
      "text/plain": [
       "       Feature  Correlation\n",
       "4         Fare     0.384230\n",
       "5     Embarked     0.162637\n",
       "3        Parch    -0.117106\n",
       "6  Age_imputed    -0.228803\n",
       "2        SibSp    -0.373193\n",
       "0       Pclass    -0.661535\n",
       "1          Sex    -2.346606"
      ]
     },
     "execution_count": 53,
     "metadata": {},
     "output_type": "execute_result"
    }
   ],
   "source": [
    "coeff_df = pd.DataFrame(train_data.columns.delete(0))\n",
    "coeff_df.columns = ['Feature']\n",
    "coeff_df[\"Correlation\"] = pd.Series(logmodel.coef_[0])\n",
    "\n",
    "coeff_df.sort_values(by='Correlation', ascending=False)"
   ]
  },
  {
   "cell_type": "markdown",
   "id": "34a9cf7e",
   "metadata": {
    "papermill": {
     "duration": 0.100929,
     "end_time": "2022-02-24T21:23:33.619359",
     "exception": false,
     "start_time": "2022-02-24T21:23:33.518430",
     "status": "completed"
    },
    "tags": []
   },
   "source": [
    "## 2.3. Random Forest Classifier"
   ]
  },
  {
   "cell_type": "code",
   "execution_count": 54,
   "id": "a2124569",
   "metadata": {
    "execution": {
     "iopub.execute_input": "2022-02-24T21:23:33.829594Z",
     "iopub.status.busy": "2022-02-24T21:23:33.828882Z",
     "iopub.status.idle": "2022-02-24T21:23:34.024851Z",
     "shell.execute_reply": "2022-02-24T21:23:34.024177Z",
     "shell.execute_reply.started": "2022-02-24T21:15:35.505534Z"
    },
    "papermill": {
     "duration": 0.304783,
     "end_time": "2022-02-24T21:23:34.025043",
     "exception": false,
     "start_time": "2022-02-24T21:23:33.720260",
     "status": "completed"
    },
    "tags": []
   },
   "outputs": [
    {
     "data": {
      "text/plain": [
       "RandomForestClassifier(bootstrap=False, max_depth=8, min_samples_leaf=2,\n",
       "                       n_estimators=110, random_state=0)"
      ]
     },
     "execution_count": 54,
     "metadata": {},
     "output_type": "execute_result"
    }
   ],
   "source": [
    "rf = RandomForestClassifier(n_estimators=110, max_depth= 8, max_features='auto',\n",
    "                                    random_state=0, oob_score=False, min_samples_split = 2,\n",
    "                                    criterion= 'gini', min_samples_leaf=2, bootstrap=False)\n",
    "rf.fit(X_train, y_train)"
   ]
  },
  {
   "cell_type": "code",
   "execution_count": 55,
   "id": "c3cd1dd6",
   "metadata": {
    "execution": {
     "iopub.execute_input": "2022-02-24T21:23:34.246902Z",
     "iopub.status.busy": "2022-02-24T21:23:34.245856Z",
     "iopub.status.idle": "2022-02-24T21:23:36.075170Z",
     "shell.execute_reply": "2022-02-24T21:23:36.074425Z",
     "shell.execute_reply.started": "2022-02-24T21:15:35.694901Z"
    },
    "papermill": {
     "duration": 1.938737,
     "end_time": "2022-02-24T21:23:36.075355",
     "exception": false,
     "start_time": "2022-02-24T21:23:34.136618",
     "status": "completed"
    },
    "tags": []
   },
   "outputs": [
    {
     "name": "stdout",
     "output_type": "stream",
     "text": [
      "Random Forest Classifier score:  0.8007824726134585\n",
      "87.22\n"
     ]
    }
   ],
   "source": [
    "rf_score = cross_val_score(rf, X_train, y_train, cv = 10, scoring = 'accuracy').mean()\n",
    "print(\"Random Forest Classifier score: \", rf_score)\n",
    "acc_rf = round(rf.score(X_train, y_train) * 100, 2)\n",
    "print(acc_rf)"
   ]
  },
  {
   "cell_type": "code",
   "execution_count": 56,
   "id": "36593e9d",
   "metadata": {
    "execution": {
     "iopub.execute_input": "2022-02-24T21:23:36.289318Z",
     "iopub.status.busy": "2022-02-24T21:23:36.288224Z",
     "iopub.status.idle": "2022-02-24T21:23:36.308082Z",
     "shell.execute_reply": "2022-02-24T21:23:36.307361Z",
     "shell.execute_reply.started": "2022-02-24T21:15:37.525125Z"
    },
    "papermill": {
     "duration": 0.129219,
     "end_time": "2022-02-24T21:23:36.308259",
     "exception": false,
     "start_time": "2022-02-24T21:23:36.179040",
     "status": "completed"
    },
    "tags": []
   },
   "outputs": [],
   "source": [
    "rf_pred = rf.predict(X_test)"
   ]
  },
  {
   "cell_type": "markdown",
   "id": "d153f8ce",
   "metadata": {
    "papermill": {
     "duration": 0.101474,
     "end_time": "2022-02-24T21:23:36.510772",
     "exception": false,
     "start_time": "2022-02-24T21:23:36.409298",
     "status": "completed"
    },
    "tags": []
   },
   "source": [
    "## 2.4. KNN"
   ]
  },
  {
   "cell_type": "code",
   "execution_count": 57,
   "id": "76caf64b",
   "metadata": {
    "execution": {
     "iopub.execute_input": "2022-02-24T21:23:36.720770Z",
     "iopub.status.busy": "2022-02-24T21:23:36.720091Z",
     "iopub.status.idle": "2022-02-24T21:23:36.732343Z",
     "shell.execute_reply": "2022-02-24T21:23:36.731632Z",
     "shell.execute_reply.started": "2022-02-24T21:15:37.551327Z"
    },
    "papermill": {
     "duration": 0.118398,
     "end_time": "2022-02-24T21:23:36.732503",
     "exception": false,
     "start_time": "2022-02-24T21:23:36.614105",
     "status": "completed"
    },
    "tags": []
   },
   "outputs": [
    {
     "data": {
      "text/plain": [
       "KNeighborsClassifier(n_neighbors=3)"
      ]
     },
     "execution_count": 57,
     "metadata": {},
     "output_type": "execute_result"
    }
   ],
   "source": [
    "knn = KNeighborsClassifier(n_neighbors=3)\n",
    "knn.fit(X_train, y_train)"
   ]
  },
  {
   "cell_type": "code",
   "execution_count": 58,
   "id": "3ca50a9d",
   "metadata": {
    "execution": {
     "iopub.execute_input": "2022-02-24T21:23:36.961714Z",
     "iopub.status.busy": "2022-02-24T21:23:36.960661Z",
     "iopub.status.idle": "2022-02-24T21:23:37.083794Z",
     "shell.execute_reply": "2022-02-24T21:23:37.084316Z",
     "shell.execute_reply.started": "2022-02-24T21:15:37.562772Z"
    },
    "papermill": {
     "duration": 0.249565,
     "end_time": "2022-02-24T21:23:37.084515",
     "exception": false,
     "start_time": "2022-02-24T21:23:36.834950",
     "status": "completed"
    },
    "tags": []
   },
   "outputs": [
    {
     "name": "stdout",
     "output_type": "stream",
     "text": [
      "KNN score:  0.7571400625978092\n",
      "83.99\n"
     ]
    }
   ],
   "source": [
    "knn_score = cross_val_score(knn, X_train, y_train, cv = 10, scoring = 'accuracy').mean()\n",
    "print(\"KNN score: \", knn_score)\n",
    "acc_knn = round(knn.score(X_train, y_train) * 100, 2)\n",
    "print(acc_knn)"
   ]
  },
  {
   "cell_type": "code",
   "execution_count": 59,
   "id": "e4e6a843",
   "metadata": {
    "execution": {
     "iopub.execute_input": "2022-02-24T21:23:37.297127Z",
     "iopub.status.busy": "2022-02-24T21:23:37.296101Z",
     "iopub.status.idle": "2022-02-24T21:23:37.320828Z",
     "shell.execute_reply": "2022-02-24T21:23:37.321325Z",
     "shell.execute_reply.started": "2022-02-24T21:15:37.683950Z"
    },
    "papermill": {
     "duration": 0.13151,
     "end_time": "2022-02-24T21:23:37.321545",
     "exception": false,
     "start_time": "2022-02-24T21:23:37.190035",
     "status": "completed"
    },
    "tags": []
   },
   "outputs": [],
   "source": [
    "knn_pred = knn.predict(X_test)"
   ]
  },
  {
   "cell_type": "markdown",
   "id": "54890322",
   "metadata": {
    "papermill": {
     "duration": 0.102891,
     "end_time": "2022-02-24T21:23:37.526945",
     "exception": false,
     "start_time": "2022-02-24T21:23:37.424054",
     "status": "completed"
    },
    "tags": []
   },
   "source": [
    "## 2.5. Support Vector Machine"
   ]
  },
  {
   "cell_type": "code",
   "execution_count": 60,
   "id": "a557ab6e",
   "metadata": {
    "execution": {
     "iopub.execute_input": "2022-02-24T21:23:37.743539Z",
     "iopub.status.busy": "2022-02-24T21:23:37.742803Z",
     "iopub.status.idle": "2022-02-24T21:23:37.749913Z",
     "shell.execute_reply": "2022-02-24T21:23:37.750525Z",
     "shell.execute_reply.started": "2022-02-24T21:15:37.712756Z"
    },
    "papermill": {
     "duration": 0.117915,
     "end_time": "2022-02-24T21:23:37.750749",
     "exception": false,
     "start_time": "2022-02-24T21:23:37.632834",
     "status": "completed"
    },
    "tags": []
   },
   "outputs": [
    {
     "data": {
      "text/plain": [
       "LinearSVC(dual=False)"
      ]
     },
     "execution_count": 60,
     "metadata": {},
     "output_type": "execute_result"
    }
   ],
   "source": [
    "svc = LinearSVC(dual=False)\n",
    "svc.fit(X_train, y_train)"
   ]
  },
  {
   "cell_type": "code",
   "execution_count": 61,
   "id": "869b6585",
   "metadata": {
    "execution": {
     "iopub.execute_input": "2022-02-24T21:23:37.964705Z",
     "iopub.status.busy": "2022-02-24T21:23:37.961336Z",
     "iopub.status.idle": "2022-02-24T21:23:38.020869Z",
     "shell.execute_reply": "2022-02-24T21:23:38.021433Z",
     "shell.execute_reply.started": "2022-02-24T21:15:37.726374Z"
    },
    "papermill": {
     "duration": 0.166636,
     "end_time": "2022-02-24T21:23:38.021647",
     "exception": false,
     "start_time": "2022-02-24T21:23:37.855011",
     "status": "completed"
    },
    "tags": []
   },
   "outputs": [
    {
     "name": "stdout",
     "output_type": "stream",
     "text": [
      "Support Vector Machine score:  0.7823356807511738\n",
      "78.93\n"
     ]
    }
   ],
   "source": [
    "svc_score = cross_val_score(svc, X_train, y_train, cv = 10, scoring = 'accuracy').mean()\n",
    "print(\"Support Vector Machine score: \", svc_score)\n",
    "acc_svc = round(svc.score(X_train, y_train) * 100, 2)\n",
    "print(acc_svc)"
   ]
  },
  {
   "cell_type": "code",
   "execution_count": 62,
   "id": "393bcff6",
   "metadata": {
    "execution": {
     "iopub.execute_input": "2022-02-24T21:23:38.233837Z",
     "iopub.status.busy": "2022-02-24T21:23:38.233191Z",
     "iopub.status.idle": "2022-02-24T21:23:38.238739Z",
     "shell.execute_reply": "2022-02-24T21:23:38.239258Z",
     "shell.execute_reply.started": "2022-02-24T21:15:37.788924Z"
    },
    "papermill": {
     "duration": 0.113019,
     "end_time": "2022-02-24T21:23:38.239448",
     "exception": false,
     "start_time": "2022-02-24T21:23:38.126429",
     "status": "completed"
    },
    "tags": []
   },
   "outputs": [],
   "source": [
    "svc_pred = svc.predict(X_test)"
   ]
  },
  {
   "cell_type": "markdown",
   "id": "9e410780",
   "metadata": {
    "papermill": {
     "duration": 0.101729,
     "end_time": "2022-02-24T21:23:38.443599",
     "exception": false,
     "start_time": "2022-02-24T21:23:38.341870",
     "status": "completed"
    },
    "tags": []
   },
   "source": [
    "## 2.6. Gradient Boosting Classifier"
   ]
  },
  {
   "cell_type": "code",
   "execution_count": 63,
   "id": "a42c86cc",
   "metadata": {
    "execution": {
     "iopub.execute_input": "2022-02-24T21:23:38.658658Z",
     "iopub.status.busy": "2022-02-24T21:23:38.657969Z",
     "iopub.status.idle": "2022-02-24T21:23:38.783425Z",
     "shell.execute_reply": "2022-02-24T21:23:38.782855Z",
     "shell.execute_reply.started": "2022-02-24T21:15:37.796402Z"
    },
    "papermill": {
     "duration": 0.236753,
     "end_time": "2022-02-24T21:23:38.783593",
     "exception": false,
     "start_time": "2022-02-24T21:23:38.546840",
     "status": "completed"
    },
    "tags": []
   },
   "outputs": [
    {
     "data": {
      "text/plain": [
       "GradientBoostingClassifier(max_depth=4, max_features=5, n_estimators=101,\n",
       "                           random_state=0)"
      ]
     },
     "execution_count": 63,
     "metadata": {},
     "output_type": "execute_result"
    }
   ],
   "source": [
    "grdb_clf = GradientBoostingClassifier(max_depth = 4, max_features = 5, n_estimators=101 ,random_state=0)\n",
    "grdb_clf.fit(X_train, y_train)"
   ]
  },
  {
   "cell_type": "code",
   "execution_count": 64,
   "id": "c4c6cac0",
   "metadata": {
    "execution": {
     "iopub.execute_input": "2022-02-24T21:23:39.004082Z",
     "iopub.status.busy": "2022-02-24T21:23:39.003397Z",
     "iopub.status.idle": "2022-02-24T21:23:40.207926Z",
     "shell.execute_reply": "2022-02-24T21:23:40.207304Z",
     "shell.execute_reply.started": "2022-02-24T21:15:37.938068Z"
    },
    "papermill": {
     "duration": 1.317123,
     "end_time": "2022-02-24T21:23:40.208117",
     "exception": false,
     "start_time": "2022-02-24T21:23:38.890994",
     "status": "completed"
    },
    "tags": []
   },
   "outputs": [
    {
     "name": "stdout",
     "output_type": "stream",
     "text": [
      "Gradient Boosting Classifier score:  0.8063967136150236\n",
      "87.08\n"
     ]
    }
   ],
   "source": [
    "grdb_clf_score = cross_val_score(grdb_clf, X_train, y_train, cv = 10, scoring = 'accuracy').mean()\n",
    "print(\"Gradient Boosting Classifier score: \", grdb_clf_score)\n",
    "acc_grdb = round(grdb_clf.score(X_train, y_train) * 100, 2)\n",
    "print(acc_grdb)"
   ]
  },
  {
   "cell_type": "code",
   "execution_count": 65,
   "id": "f473b51e",
   "metadata": {
    "execution": {
     "iopub.execute_input": "2022-02-24T21:23:40.419914Z",
     "iopub.status.busy": "2022-02-24T21:23:40.419178Z",
     "iopub.status.idle": "2022-02-24T21:23:40.426242Z",
     "shell.execute_reply": "2022-02-24T21:23:40.426829Z",
     "shell.execute_reply.started": "2022-02-24T21:15:39.182544Z"
    },
    "papermill": {
     "duration": 0.114691,
     "end_time": "2022-02-24T21:23:40.427035",
     "exception": false,
     "start_time": "2022-02-24T21:23:40.312344",
     "status": "completed"
    },
    "tags": []
   },
   "outputs": [],
   "source": [
    "grdb_pred = grdb_clf.predict(X_test)"
   ]
  },
  {
   "cell_type": "markdown",
   "id": "59c17e42",
   "metadata": {
    "papermill": {
     "duration": 0.103241,
     "end_time": "2022-02-24T21:23:40.635803",
     "exception": false,
     "start_time": "2022-02-24T21:23:40.532562",
     "status": "completed"
    },
    "tags": []
   },
   "source": [
    "### Model Prediction Comparison"
   ]
  },
  {
   "cell_type": "code",
   "execution_count": 66,
   "id": "fa17e8f1",
   "metadata": {
    "execution": {
     "iopub.execute_input": "2022-02-24T21:23:40.848802Z",
     "iopub.status.busy": "2022-02-24T21:23:40.848058Z",
     "iopub.status.idle": "2022-02-24T21:23:40.853194Z",
     "shell.execute_reply": "2022-02-24T21:23:40.853742Z",
     "shell.execute_reply.started": "2022-02-24T21:15:39.191332Z"
    },
    "papermill": {
     "duration": 0.112405,
     "end_time": "2022-02-24T21:23:40.853921",
     "exception": false,
     "start_time": "2022-02-24T21:23:40.741516",
     "status": "completed"
    },
    "tags": []
   },
   "outputs": [
    {
     "data": {
      "text/plain": [
       "0.9473684210526315"
      ]
     },
     "execution_count": 66,
     "metadata": {},
     "output_type": "execute_result"
    }
   ],
   "source": [
    "np.mean(rf_pred == grdb_pred)"
   ]
  },
  {
   "cell_type": "code",
   "execution_count": 67,
   "id": "a9c9d01b",
   "metadata": {
    "execution": {
     "iopub.execute_input": "2022-02-24T21:23:41.067783Z",
     "iopub.status.busy": "2022-02-24T21:23:41.067063Z",
     "iopub.status.idle": "2022-02-24T21:23:41.072847Z",
     "shell.execute_reply": "2022-02-24T21:23:41.073540Z",
     "shell.execute_reply.started": "2022-02-24T21:15:39.209292Z"
    },
    "papermill": {
     "duration": 0.115288,
     "end_time": "2022-02-24T21:23:41.073762",
     "exception": false,
     "start_time": "2022-02-24T21:23:40.958474",
     "status": "completed"
    },
    "tags": []
   },
   "outputs": [
    {
     "data": {
      "text/plain": [
       "0.8181818181818182"
      ]
     },
     "execution_count": 67,
     "metadata": {},
     "output_type": "execute_result"
    }
   ],
   "source": [
    "np.mean(log_pred == rf_pred)"
   ]
  },
  {
   "cell_type": "code",
   "execution_count": 68,
   "id": "36d0a526",
   "metadata": {
    "execution": {
     "iopub.execute_input": "2022-02-24T21:23:41.288228Z",
     "iopub.status.busy": "2022-02-24T21:23:41.287456Z",
     "iopub.status.idle": "2022-02-24T21:23:41.292639Z",
     "shell.execute_reply": "2022-02-24T21:23:41.293289Z",
     "shell.execute_reply.started": "2022-02-24T21:15:39.221615Z"
    },
    "papermill": {
     "duration": 0.113433,
     "end_time": "2022-02-24T21:23:41.293489",
     "exception": false,
     "start_time": "2022-02-24T21:23:41.180056",
     "status": "completed"
    },
    "tags": []
   },
   "outputs": [
    {
     "data": {
      "text/plain": [
       "0.8899521531100478"
      ]
     },
     "execution_count": 68,
     "metadata": {},
     "output_type": "execute_result"
    }
   ],
   "source": [
    "np.mean(grdb_pred == knn_pred)"
   ]
  },
  {
   "cell_type": "code",
   "execution_count": 69,
   "id": "ff1ca342",
   "metadata": {
    "execution": {
     "iopub.execute_input": "2022-02-24T21:23:41.507778Z",
     "iopub.status.busy": "2022-02-24T21:23:41.507048Z",
     "iopub.status.idle": "2022-02-24T21:23:41.512106Z",
     "shell.execute_reply": "2022-02-24T21:23:41.512710Z",
     "shell.execute_reply.started": "2022-02-24T21:15:39.234758Z"
    },
    "papermill": {
     "duration": 0.113825,
     "end_time": "2022-02-24T21:23:41.512901",
     "exception": false,
     "start_time": "2022-02-24T21:23:41.399076",
     "status": "completed"
    },
    "tags": []
   },
   "outputs": [
    {
     "data": {
      "text/plain": [
       "0.777511961722488"
      ]
     },
     "execution_count": 69,
     "metadata": {},
     "output_type": "execute_result"
    }
   ],
   "source": [
    "np.mean(knn_pred == svc_pred)"
   ]
  },
  {
   "cell_type": "markdown",
   "id": "ab8dc07a",
   "metadata": {
    "papermill": {
     "duration": 0.106809,
     "end_time": "2022-02-24T21:23:41.726156",
     "exception": false,
     "start_time": "2022-02-24T21:23:41.619347",
     "status": "completed"
    },
    "tags": []
   },
   "source": [
    "# 3. Submission"
   ]
  },
  {
   "cell_type": "code",
   "execution_count": 70,
   "id": "1cc80f21",
   "metadata": {
    "execution": {
     "iopub.execute_input": "2022-02-24T21:23:41.945774Z",
     "iopub.status.busy": "2022-02-24T21:23:41.944641Z",
     "iopub.status.idle": "2022-02-24T21:23:41.947373Z",
     "shell.execute_reply": "2022-02-24T21:23:41.946742Z",
     "shell.execute_reply.started": "2022-02-24T21:15:39.248233Z"
    },
    "papermill": {
     "duration": 0.115086,
     "end_time": "2022-02-24T21:23:41.947530",
     "exception": false,
     "start_time": "2022-02-24T21:23:41.832444",
     "status": "completed"
    },
    "tags": []
   },
   "outputs": [],
   "source": [
    "from scipy import stats"
   ]
  },
  {
   "cell_type": "code",
   "execution_count": 71,
   "id": "8edc172a",
   "metadata": {
    "execution": {
     "iopub.execute_input": "2022-02-24T21:23:42.165053Z",
     "iopub.status.busy": "2022-02-24T21:23:42.164042Z",
     "iopub.status.idle": "2022-02-24T21:23:42.185706Z",
     "shell.execute_reply": "2022-02-24T21:23:42.184935Z",
     "shell.execute_reply.started": "2022-02-24T21:15:39.259685Z"
    },
    "papermill": {
     "duration": 0.133636,
     "end_time": "2022-02-24T21:23:42.185890",
     "exception": false,
     "start_time": "2022-02-24T21:23:42.052254",
     "status": "completed"
    },
    "tags": []
   },
   "outputs": [],
   "source": [
    "pred = stats.mode(np.concatenate((np.array([rf_pred]).T, \n",
    "                                  np.array([grdb_pred]).T,\n",
    "                                  np.array([knn_pred]).T), axis=1).tolist(), axis=1)[0]"
   ]
  },
  {
   "cell_type": "code",
   "execution_count": 72,
   "id": "ba3ff42b",
   "metadata": {
    "execution": {
     "iopub.execute_input": "2022-02-24T21:23:42.402923Z",
     "iopub.status.busy": "2022-02-24T21:23:42.402223Z",
     "iopub.status.idle": "2022-02-24T21:23:42.410223Z",
     "shell.execute_reply": "2022-02-24T21:23:42.409483Z",
     "shell.execute_reply.started": "2022-02-24T21:15:39.288896Z"
    },
    "papermill": {
     "duration": 0.119146,
     "end_time": "2022-02-24T21:23:42.410388",
     "exception": false,
     "start_time": "2022-02-24T21:23:42.291242",
     "status": "completed"
    },
    "tags": []
   },
   "outputs": [
    {
     "name": "stdout",
     "output_type": "stream",
     "text": [
      "The submission was successfully saved!\n"
     ]
    }
   ],
   "source": [
    "#output = pd.DataFrame({'PassengerId': pattern_model.PassengerId, 'Survived': pred.T[0]})\n",
    "output = pd.DataFrame({'PassengerId': pattern_model.PassengerId, 'Survived': grdb_pred})\n",
    "output.to_csv('submission.csv', index=False)\n",
    "print(\"The submission was successfully saved!\")"
   ]
  }
 ],
 "metadata": {
  "kernelspec": {
   "display_name": "Python 3",
   "language": "python",
   "name": "python3"
  },
  "language_info": {
   "codemirror_mode": {
    "name": "ipython",
    "version": 3
   },
   "file_extension": ".py",
   "mimetype": "text/x-python",
   "name": "python",
   "nbconvert_exporter": "python",
   "pygments_lexer": "ipython3",
   "version": "3.7.12"
  },
  "papermill": {
   "default_parameters": {},
   "duration": 53.149093,
   "end_time": "2022-02-24T21:23:45.654707",
   "environment_variables": {},
   "exception": null,
   "input_path": "__notebook__.ipynb",
   "output_path": "__notebook__.ipynb",
   "parameters": {},
   "start_time": "2022-02-24T21:22:52.505614",
   "version": "2.3.3"
  }
 },
 "nbformat": 4,
 "nbformat_minor": 5
}
